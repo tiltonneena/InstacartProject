{
 "cells": [
  {
   "cell_type": "markdown",
   "id": "0c2de5a8",
   "metadata": {},
   "source": [
    "# 10.2 Final Analysis "
   ]
  },
  {
   "cell_type": "markdown",
   "id": "8178da81",
   "metadata": {},
   "source": [
    "#### Import libraries and dataframe - input 1\n",
    "#### Tidying dataframe: drop columns and update datatype - input 4\n",
    "#### Age-range profile variables - input 20 \n",
    "#### Income-range profile variable - input 31\n",
    "#### Parental-status profile variable - input 48\n",
    "#### Updating new variables datatypes - input 53\n",
    "#### Crosstabs\n",
    "#### Exporting updated dataframe\n"
   ]
  },
  {
   "cell_type": "markdown",
   "id": "d176b6ce",
   "metadata": {},
   "source": [
    "Importing libraries and dataframe"
   ]
  },
  {
   "cell_type": "code",
   "execution_count": 1,
   "id": "30ae2a0f",
   "metadata": {},
   "outputs": [],
   "source": [
    "import pandas as pd\n",
    "import numpy as np\n",
    "import os"
   ]
  },
  {
   "cell_type": "code",
   "execution_count": 2,
   "id": "903866b7",
   "metadata": {},
   "outputs": [],
   "source": [
    "path = path = r'C:\\Users\\Neena Tilton\\Dropbox\\Projects\\01_2020_InstacartBasket'"
   ]
  },
  {
   "cell_type": "code",
   "execution_count": 3,
   "id": "9877cb5a",
   "metadata": {},
   "outputs": [],
   "source": [
    "main_df = pd.read_pickle(os.path.join(path, '02_Data', 'PreparedData', 'reg_act_customers.pkl'))"
   ]
  },
  {
   "cell_type": "markdown",
   "id": "65beeecc",
   "metadata": {},
   "source": [
    "Tidying some of the data:"
   ]
  },
  {
   "cell_type": "code",
   "execution_count": 4,
   "id": "d0092dca",
   "metadata": {},
   "outputs": [
    {
     "name": "stdout",
     "output_type": "stream",
     "text": [
      "<class 'pandas.core.frame.DataFrame'>\n",
      "Int64Index: 30964564 entries, 0 to 32404854\n",
      "Data columns (total 33 columns):\n",
      " #   Column                         Dtype   \n",
      "---  ------                         -----   \n",
      " 0   order_id                       int64   \n",
      " 1   user_id                        int64   \n",
      " 2   order_number                   int64   \n",
      " 3   orders_day_of_week             int64   \n",
      " 4   order_time_of_day              int64   \n",
      " 5   days_since_prior_order         float64 \n",
      " 6   product_id                     int64   \n",
      " 7   add_to_cart_order              int64   \n",
      " 8   reordered                      int64   \n",
      " 9   product_name                   object  \n",
      " 10  aisle_id                       int64   \n",
      " 11  department_id                  int64   \n",
      " 12  prices                         float64 \n",
      " 13  _merge                         category\n",
      " 14  busiest_day                    object  \n",
      " 15  Busiest_days                   object  \n",
      " 16  busiest_period_of_day          object  \n",
      " 17  max order                      int64   \n",
      " 18  max_order                      int64   \n",
      " 19  loyalty_flag                   object  \n",
      " 20  mean_price_of_product          float64 \n",
      " 21  spender_type_flag              object  \n",
      " 22  customer_frequency_flag        object  \n",
      " 23  median_days_since_prior_order  float64 \n",
      " 24  gender                         object  \n",
      " 25  state                          object  \n",
      " 26  age                            int64   \n",
      " 27  date_joined                    object  \n",
      " 28  n_dependants                   int64   \n",
      " 29  fam_status                     object  \n",
      " 30  income                         int64   \n",
      " 31  region                         object  \n",
      " 32  exclusion_flag                 object  \n",
      "dtypes: category(1), float64(4), int64(15), object(13)\n",
      "memory usage: 7.6+ GB\n"
     ]
    }
   ],
   "source": [
    "main_df.info()"
   ]
  },
  {
   "cell_type": "markdown",
   "id": "a909632b",
   "metadata": {},
   "source": [
    "Columns that need attention: 13, 14, 15, 17, 18"
   ]
  },
  {
   "cell_type": "code",
   "execution_count": 5,
   "id": "16e2dddc",
   "metadata": {},
   "outputs": [],
   "source": [
    "pd.options.display.max_rows = None"
   ]
  },
  {
   "cell_type": "code",
   "execution_count": 6,
   "id": "c7258b10",
   "metadata": {},
   "outputs": [
    {
     "data": {
      "text/html": [
       "<div>\n",
       "<style scoped>\n",
       "    .dataframe tbody tr th:only-of-type {\n",
       "        vertical-align: middle;\n",
       "    }\n",
       "\n",
       "    .dataframe tbody tr th {\n",
       "        vertical-align: top;\n",
       "    }\n",
       "\n",
       "    .dataframe thead th {\n",
       "        text-align: right;\n",
       "    }\n",
       "</style>\n",
       "<table border=\"1\" class=\"dataframe\">\n",
       "  <thead>\n",
       "    <tr style=\"text-align: right;\">\n",
       "      <th></th>\n",
       "      <th>_merge</th>\n",
       "      <th>busiest_day</th>\n",
       "      <th>Busiest_days</th>\n",
       "      <th>max order</th>\n",
       "      <th>max_order</th>\n",
       "    </tr>\n",
       "  </thead>\n",
       "  <tbody>\n",
       "    <tr>\n",
       "      <th>0</th>\n",
       "      <td>both</td>\n",
       "      <td>Regular busy</td>\n",
       "      <td>Regular days</td>\n",
       "      <td>10</td>\n",
       "      <td>10</td>\n",
       "    </tr>\n",
       "    <tr>\n",
       "      <th>1</th>\n",
       "      <td>both</td>\n",
       "      <td>Regular busy</td>\n",
       "      <td>Slowest days</td>\n",
       "      <td>10</td>\n",
       "      <td>10</td>\n",
       "    </tr>\n",
       "    <tr>\n",
       "      <th>2</th>\n",
       "      <td>both</td>\n",
       "      <td>Regular busy</td>\n",
       "      <td>Slowest days</td>\n",
       "      <td>10</td>\n",
       "      <td>10</td>\n",
       "    </tr>\n",
       "    <tr>\n",
       "      <th>3</th>\n",
       "      <td>both</td>\n",
       "      <td>Least busy</td>\n",
       "      <td>Slowest days</td>\n",
       "      <td>10</td>\n",
       "      <td>10</td>\n",
       "    </tr>\n",
       "    <tr>\n",
       "      <th>4</th>\n",
       "      <td>both</td>\n",
       "      <td>Least busy</td>\n",
       "      <td>Slowest days</td>\n",
       "      <td>10</td>\n",
       "      <td>10</td>\n",
       "    </tr>\n",
       "    <tr>\n",
       "      <th>5</th>\n",
       "      <td>both</td>\n",
       "      <td>Regular busy</td>\n",
       "      <td>Regular days</td>\n",
       "      <td>10</td>\n",
       "      <td>10</td>\n",
       "    </tr>\n",
       "    <tr>\n",
       "      <th>6</th>\n",
       "      <td>both</td>\n",
       "      <td>Regular busy</td>\n",
       "      <td>Busiest days</td>\n",
       "      <td>10</td>\n",
       "      <td>10</td>\n",
       "    </tr>\n",
       "    <tr>\n",
       "      <th>7</th>\n",
       "      <td>both</td>\n",
       "      <td>Regular busy</td>\n",
       "      <td>Busiest days</td>\n",
       "      <td>10</td>\n",
       "      <td>10</td>\n",
       "    </tr>\n",
       "    <tr>\n",
       "      <th>8</th>\n",
       "      <td>both</td>\n",
       "      <td>Regular busy</td>\n",
       "      <td>Busiest days</td>\n",
       "      <td>10</td>\n",
       "      <td>10</td>\n",
       "    </tr>\n",
       "    <tr>\n",
       "      <th>9</th>\n",
       "      <td>both</td>\n",
       "      <td>Least busy</td>\n",
       "      <td>Slowest days</td>\n",
       "      <td>10</td>\n",
       "      <td>10</td>\n",
       "    </tr>\n",
       "    <tr>\n",
       "      <th>10</th>\n",
       "      <td>both</td>\n",
       "      <td>Regular busy</td>\n",
       "      <td>Regular days</td>\n",
       "      <td>10</td>\n",
       "      <td>10</td>\n",
       "    </tr>\n",
       "    <tr>\n",
       "      <th>11</th>\n",
       "      <td>both</td>\n",
       "      <td>Regular busy</td>\n",
       "      <td>Regular days</td>\n",
       "      <td>10</td>\n",
       "      <td>10</td>\n",
       "    </tr>\n",
       "    <tr>\n",
       "      <th>12</th>\n",
       "      <td>both</td>\n",
       "      <td>Regular busy</td>\n",
       "      <td>Slowest days</td>\n",
       "      <td>10</td>\n",
       "      <td>10</td>\n",
       "    </tr>\n",
       "    <tr>\n",
       "      <th>13</th>\n",
       "      <td>both</td>\n",
       "      <td>Regular busy</td>\n",
       "      <td>Slowest days</td>\n",
       "      <td>10</td>\n",
       "      <td>10</td>\n",
       "    </tr>\n",
       "    <tr>\n",
       "      <th>14</th>\n",
       "      <td>both</td>\n",
       "      <td>Least busy</td>\n",
       "      <td>Slowest days</td>\n",
       "      <td>10</td>\n",
       "      <td>10</td>\n",
       "    </tr>\n",
       "    <tr>\n",
       "      <th>15</th>\n",
       "      <td>both</td>\n",
       "      <td>Least busy</td>\n",
       "      <td>Slowest days</td>\n",
       "      <td>10</td>\n",
       "      <td>10</td>\n",
       "    </tr>\n",
       "    <tr>\n",
       "      <th>16</th>\n",
       "      <td>both</td>\n",
       "      <td>Regular busy</td>\n",
       "      <td>Regular days</td>\n",
       "      <td>10</td>\n",
       "      <td>10</td>\n",
       "    </tr>\n",
       "    <tr>\n",
       "      <th>17</th>\n",
       "      <td>both</td>\n",
       "      <td>Regular busy</td>\n",
       "      <td>Busiest days</td>\n",
       "      <td>10</td>\n",
       "      <td>10</td>\n",
       "    </tr>\n",
       "    <tr>\n",
       "      <th>18</th>\n",
       "      <td>both</td>\n",
       "      <td>Regular busy</td>\n",
       "      <td>Busiest days</td>\n",
       "      <td>10</td>\n",
       "      <td>10</td>\n",
       "    </tr>\n",
       "    <tr>\n",
       "      <th>19</th>\n",
       "      <td>both</td>\n",
       "      <td>Regular busy</td>\n",
       "      <td>Busiest days</td>\n",
       "      <td>10</td>\n",
       "      <td>10</td>\n",
       "    </tr>\n",
       "    <tr>\n",
       "      <th>20</th>\n",
       "      <td>both</td>\n",
       "      <td>Least busy</td>\n",
       "      <td>Slowest days</td>\n",
       "      <td>10</td>\n",
       "      <td>10</td>\n",
       "    </tr>\n",
       "    <tr>\n",
       "      <th>21</th>\n",
       "      <td>both</td>\n",
       "      <td>Regular busy</td>\n",
       "      <td>Regular days</td>\n",
       "      <td>10</td>\n",
       "      <td>10</td>\n",
       "    </tr>\n",
       "    <tr>\n",
       "      <th>22</th>\n",
       "      <td>both</td>\n",
       "      <td>Regular busy</td>\n",
       "      <td>Slowest days</td>\n",
       "      <td>10</td>\n",
       "      <td>10</td>\n",
       "    </tr>\n",
       "    <tr>\n",
       "      <th>23</th>\n",
       "      <td>both</td>\n",
       "      <td>Regular busy</td>\n",
       "      <td>Regular days</td>\n",
       "      <td>10</td>\n",
       "      <td>10</td>\n",
       "    </tr>\n",
       "    <tr>\n",
       "      <th>24</th>\n",
       "      <td>both</td>\n",
       "      <td>Least busy</td>\n",
       "      <td>Slowest days</td>\n",
       "      <td>10</td>\n",
       "      <td>10</td>\n",
       "    </tr>\n",
       "    <tr>\n",
       "      <th>25</th>\n",
       "      <td>both</td>\n",
       "      <td>Regular busy</td>\n",
       "      <td>Slowest days</td>\n",
       "      <td>10</td>\n",
       "      <td>10</td>\n",
       "    </tr>\n",
       "    <tr>\n",
       "      <th>26</th>\n",
       "      <td>both</td>\n",
       "      <td>Regular busy</td>\n",
       "      <td>Slowest days</td>\n",
       "      <td>10</td>\n",
       "      <td>10</td>\n",
       "    </tr>\n",
       "    <tr>\n",
       "      <th>27</th>\n",
       "      <td>both</td>\n",
       "      <td>Least busy</td>\n",
       "      <td>Slowest days</td>\n",
       "      <td>10</td>\n",
       "      <td>10</td>\n",
       "    </tr>\n",
       "    <tr>\n",
       "      <th>28</th>\n",
       "      <td>both</td>\n",
       "      <td>Least busy</td>\n",
       "      <td>Slowest days</td>\n",
       "      <td>10</td>\n",
       "      <td>10</td>\n",
       "    </tr>\n",
       "    <tr>\n",
       "      <th>29</th>\n",
       "      <td>both</td>\n",
       "      <td>Regular busy</td>\n",
       "      <td>Regular days</td>\n",
       "      <td>10</td>\n",
       "      <td>10</td>\n",
       "    </tr>\n",
       "    <tr>\n",
       "      <th>30</th>\n",
       "      <td>both</td>\n",
       "      <td>Regular busy</td>\n",
       "      <td>Busiest days</td>\n",
       "      <td>10</td>\n",
       "      <td>10</td>\n",
       "    </tr>\n",
       "    <tr>\n",
       "      <th>31</th>\n",
       "      <td>both</td>\n",
       "      <td>Regular busy</td>\n",
       "      <td>Busiest days</td>\n",
       "      <td>10</td>\n",
       "      <td>10</td>\n",
       "    </tr>\n",
       "    <tr>\n",
       "      <th>32</th>\n",
       "      <td>both</td>\n",
       "      <td>Regular busy</td>\n",
       "      <td>Busiest days</td>\n",
       "      <td>10</td>\n",
       "      <td>10</td>\n",
       "    </tr>\n",
       "    <tr>\n",
       "      <th>33</th>\n",
       "      <td>both</td>\n",
       "      <td>Least busy</td>\n",
       "      <td>Slowest days</td>\n",
       "      <td>10</td>\n",
       "      <td>10</td>\n",
       "    </tr>\n",
       "    <tr>\n",
       "      <th>34</th>\n",
       "      <td>both</td>\n",
       "      <td>Regular busy</td>\n",
       "      <td>Slowest days</td>\n",
       "      <td>10</td>\n",
       "      <td>10</td>\n",
       "    </tr>\n",
       "    <tr>\n",
       "      <th>35</th>\n",
       "      <td>both</td>\n",
       "      <td>Least busy</td>\n",
       "      <td>Slowest days</td>\n",
       "      <td>10</td>\n",
       "      <td>10</td>\n",
       "    </tr>\n",
       "    <tr>\n",
       "      <th>36</th>\n",
       "      <td>both</td>\n",
       "      <td>Regular busy</td>\n",
       "      <td>Slowest days</td>\n",
       "      <td>10</td>\n",
       "      <td>10</td>\n",
       "    </tr>\n",
       "    <tr>\n",
       "      <th>37</th>\n",
       "      <td>both</td>\n",
       "      <td>Regular busy</td>\n",
       "      <td>Busiest days</td>\n",
       "      <td>10</td>\n",
       "      <td>10</td>\n",
       "    </tr>\n",
       "    <tr>\n",
       "      <th>38</th>\n",
       "      <td>both</td>\n",
       "      <td>Least busy</td>\n",
       "      <td>Slowest days</td>\n",
       "      <td>10</td>\n",
       "      <td>10</td>\n",
       "    </tr>\n",
       "    <tr>\n",
       "      <th>39</th>\n",
       "      <td>both</td>\n",
       "      <td>Regular busy</td>\n",
       "      <td>Slowest days</td>\n",
       "      <td>10</td>\n",
       "      <td>10</td>\n",
       "    </tr>\n",
       "    <tr>\n",
       "      <th>40</th>\n",
       "      <td>both</td>\n",
       "      <td>Least busy</td>\n",
       "      <td>Slowest days</td>\n",
       "      <td>10</td>\n",
       "      <td>10</td>\n",
       "    </tr>\n",
       "    <tr>\n",
       "      <th>41</th>\n",
       "      <td>both</td>\n",
       "      <td>Least busy</td>\n",
       "      <td>Slowest days</td>\n",
       "      <td>10</td>\n",
       "      <td>10</td>\n",
       "    </tr>\n",
       "    <tr>\n",
       "      <th>42</th>\n",
       "      <td>both</td>\n",
       "      <td>Regular busy</td>\n",
       "      <td>Regular days</td>\n",
       "      <td>10</td>\n",
       "      <td>10</td>\n",
       "    </tr>\n",
       "    <tr>\n",
       "      <th>43</th>\n",
       "      <td>both</td>\n",
       "      <td>Regular busy</td>\n",
       "      <td>Busiest days</td>\n",
       "      <td>10</td>\n",
       "      <td>10</td>\n",
       "    </tr>\n",
       "    <tr>\n",
       "      <th>44</th>\n",
       "      <td>both</td>\n",
       "      <td>Regular busy</td>\n",
       "      <td>Busiest days</td>\n",
       "      <td>10</td>\n",
       "      <td>10</td>\n",
       "    </tr>\n",
       "    <tr>\n",
       "      <th>45</th>\n",
       "      <td>both</td>\n",
       "      <td>Regular busy</td>\n",
       "      <td>Busiest days</td>\n",
       "      <td>10</td>\n",
       "      <td>10</td>\n",
       "    </tr>\n",
       "    <tr>\n",
       "      <th>46</th>\n",
       "      <td>both</td>\n",
       "      <td>Least busy</td>\n",
       "      <td>Slowest days</td>\n",
       "      <td>10</td>\n",
       "      <td>10</td>\n",
       "    </tr>\n",
       "    <tr>\n",
       "      <th>47</th>\n",
       "      <td>both</td>\n",
       "      <td>Regular busy</td>\n",
       "      <td>Slowest days</td>\n",
       "      <td>10</td>\n",
       "      <td>10</td>\n",
       "    </tr>\n",
       "    <tr>\n",
       "      <th>48</th>\n",
       "      <td>both</td>\n",
       "      <td>Least busy</td>\n",
       "      <td>Slowest days</td>\n",
       "      <td>10</td>\n",
       "      <td>10</td>\n",
       "    </tr>\n",
       "    <tr>\n",
       "      <th>49</th>\n",
       "      <td>both</td>\n",
       "      <td>Least busy</td>\n",
       "      <td>Slowest days</td>\n",
       "      <td>10</td>\n",
       "      <td>10</td>\n",
       "    </tr>\n",
       "    <tr>\n",
       "      <th>50</th>\n",
       "      <td>both</td>\n",
       "      <td>Least busy</td>\n",
       "      <td>Slowest days</td>\n",
       "      <td>10</td>\n",
       "      <td>10</td>\n",
       "    </tr>\n",
       "    <tr>\n",
       "      <th>51</th>\n",
       "      <td>both</td>\n",
       "      <td>Regular busy</td>\n",
       "      <td>Busiest days</td>\n",
       "      <td>10</td>\n",
       "      <td>10</td>\n",
       "    </tr>\n",
       "    <tr>\n",
       "      <th>52</th>\n",
       "      <td>both</td>\n",
       "      <td>Regular busy</td>\n",
       "      <td>Busiest days</td>\n",
       "      <td>10</td>\n",
       "      <td>10</td>\n",
       "    </tr>\n",
       "    <tr>\n",
       "      <th>53</th>\n",
       "      <td>both</td>\n",
       "      <td>Least busy</td>\n",
       "      <td>Slowest days</td>\n",
       "      <td>10</td>\n",
       "      <td>10</td>\n",
       "    </tr>\n",
       "    <tr>\n",
       "      <th>54</th>\n",
       "      <td>both</td>\n",
       "      <td>Regular busy</td>\n",
       "      <td>Busiest days</td>\n",
       "      <td>10</td>\n",
       "      <td>10</td>\n",
       "    </tr>\n",
       "    <tr>\n",
       "      <th>55</th>\n",
       "      <td>both</td>\n",
       "      <td>Regular busy</td>\n",
       "      <td>Busiest days</td>\n",
       "      <td>10</td>\n",
       "      <td>10</td>\n",
       "    </tr>\n",
       "    <tr>\n",
       "      <th>56</th>\n",
       "      <td>both</td>\n",
       "      <td>Least busy</td>\n",
       "      <td>Slowest days</td>\n",
       "      <td>10</td>\n",
       "      <td>10</td>\n",
       "    </tr>\n",
       "    <tr>\n",
       "      <th>57</th>\n",
       "      <td>both</td>\n",
       "      <td>Least busy</td>\n",
       "      <td>Slowest days</td>\n",
       "      <td>10</td>\n",
       "      <td>10</td>\n",
       "    </tr>\n",
       "    <tr>\n",
       "      <th>58</th>\n",
       "      <td>both</td>\n",
       "      <td>Least busy</td>\n",
       "      <td>Slowest days</td>\n",
       "      <td>10</td>\n",
       "      <td>10</td>\n",
       "    </tr>\n",
       "    <tr>\n",
       "      <th>59</th>\n",
       "      <td>both</td>\n",
       "      <td>Regular busy</td>\n",
       "      <td>Busiest days</td>\n",
       "      <td>22</td>\n",
       "      <td>22</td>\n",
       "    </tr>\n",
       "    <tr>\n",
       "      <th>60</th>\n",
       "      <td>both</td>\n",
       "      <td>Regular busy</td>\n",
       "      <td>Regular days</td>\n",
       "      <td>22</td>\n",
       "      <td>22</td>\n",
       "    </tr>\n",
       "    <tr>\n",
       "      <th>61</th>\n",
       "      <td>both</td>\n",
       "      <td>Regular busy</td>\n",
       "      <td>Regular days</td>\n",
       "      <td>22</td>\n",
       "      <td>22</td>\n",
       "    </tr>\n",
       "    <tr>\n",
       "      <th>62</th>\n",
       "      <td>both</td>\n",
       "      <td>Regular busy</td>\n",
       "      <td>Busiest days</td>\n",
       "      <td>22</td>\n",
       "      <td>22</td>\n",
       "    </tr>\n",
       "    <tr>\n",
       "      <th>63</th>\n",
       "      <td>both</td>\n",
       "      <td>Regular busy</td>\n",
       "      <td>Busiest days</td>\n",
       "      <td>22</td>\n",
       "      <td>22</td>\n",
       "    </tr>\n",
       "    <tr>\n",
       "      <th>64</th>\n",
       "      <td>both</td>\n",
       "      <td>Regular busy</td>\n",
       "      <td>Regular days</td>\n",
       "      <td>22</td>\n",
       "      <td>22</td>\n",
       "    </tr>\n",
       "    <tr>\n",
       "      <th>65</th>\n",
       "      <td>both</td>\n",
       "      <td>Regular busy</td>\n",
       "      <td>Regular days</td>\n",
       "      <td>22</td>\n",
       "      <td>22</td>\n",
       "    </tr>\n",
       "    <tr>\n",
       "      <th>66</th>\n",
       "      <td>both</td>\n",
       "      <td>Regular busy</td>\n",
       "      <td>Busiest days</td>\n",
       "      <td>22</td>\n",
       "      <td>22</td>\n",
       "    </tr>\n",
       "    <tr>\n",
       "      <th>67</th>\n",
       "      <td>both</td>\n",
       "      <td>Regular busy</td>\n",
       "      <td>Regular days</td>\n",
       "      <td>22</td>\n",
       "      <td>22</td>\n",
       "    </tr>\n",
       "    <tr>\n",
       "      <th>68</th>\n",
       "      <td>both</td>\n",
       "      <td>Regular busy</td>\n",
       "      <td>Busiest days</td>\n",
       "      <td>22</td>\n",
       "      <td>22</td>\n",
       "    </tr>\n",
       "    <tr>\n",
       "      <th>69</th>\n",
       "      <td>both</td>\n",
       "      <td>Regular busy</td>\n",
       "      <td>Busiest days</td>\n",
       "      <td>22</td>\n",
       "      <td>22</td>\n",
       "    </tr>\n",
       "    <tr>\n",
       "      <th>70</th>\n",
       "      <td>both</td>\n",
       "      <td>Regular busy</td>\n",
       "      <td>Busiest days</td>\n",
       "      <td>22</td>\n",
       "      <td>22</td>\n",
       "    </tr>\n",
       "    <tr>\n",
       "      <th>71</th>\n",
       "      <td>both</td>\n",
       "      <td>Regular busy</td>\n",
       "      <td>Regular days</td>\n",
       "      <td>22</td>\n",
       "      <td>22</td>\n",
       "    </tr>\n",
       "    <tr>\n",
       "      <th>72</th>\n",
       "      <td>both</td>\n",
       "      <td>Regular busy</td>\n",
       "      <td>Regular days</td>\n",
       "      <td>22</td>\n",
       "      <td>22</td>\n",
       "    </tr>\n",
       "    <tr>\n",
       "      <th>73</th>\n",
       "      <td>both</td>\n",
       "      <td>Regular busy</td>\n",
       "      <td>Busiest days</td>\n",
       "      <td>22</td>\n",
       "      <td>22</td>\n",
       "    </tr>\n",
       "    <tr>\n",
       "      <th>74</th>\n",
       "      <td>both</td>\n",
       "      <td>Regular busy</td>\n",
       "      <td>Regular days</td>\n",
       "      <td>22</td>\n",
       "      <td>22</td>\n",
       "    </tr>\n",
       "    <tr>\n",
       "      <th>75</th>\n",
       "      <td>both</td>\n",
       "      <td>Regular busy</td>\n",
       "      <td>Regular days</td>\n",
       "      <td>22</td>\n",
       "      <td>22</td>\n",
       "    </tr>\n",
       "    <tr>\n",
       "      <th>76</th>\n",
       "      <td>both</td>\n",
       "      <td>Regular busy</td>\n",
       "      <td>Regular days</td>\n",
       "      <td>22</td>\n",
       "      <td>22</td>\n",
       "    </tr>\n",
       "    <tr>\n",
       "      <th>77</th>\n",
       "      <td>both</td>\n",
       "      <td>Regular busy</td>\n",
       "      <td>Busiest days</td>\n",
       "      <td>22</td>\n",
       "      <td>22</td>\n",
       "    </tr>\n",
       "    <tr>\n",
       "      <th>78</th>\n",
       "      <td>both</td>\n",
       "      <td>Regular busy</td>\n",
       "      <td>Regular days</td>\n",
       "      <td>22</td>\n",
       "      <td>22</td>\n",
       "    </tr>\n",
       "    <tr>\n",
       "      <th>79</th>\n",
       "      <td>both</td>\n",
       "      <td>Regular busy</td>\n",
       "      <td>Regular days</td>\n",
       "      <td>22</td>\n",
       "      <td>22</td>\n",
       "    </tr>\n",
       "    <tr>\n",
       "      <th>80</th>\n",
       "      <td>both</td>\n",
       "      <td>Regular busy</td>\n",
       "      <td>Busiest days</td>\n",
       "      <td>22</td>\n",
       "      <td>22</td>\n",
       "    </tr>\n",
       "    <tr>\n",
       "      <th>81</th>\n",
       "      <td>both</td>\n",
       "      <td>Regular busy</td>\n",
       "      <td>Busiest days</td>\n",
       "      <td>22</td>\n",
       "      <td>22</td>\n",
       "    </tr>\n",
       "    <tr>\n",
       "      <th>82</th>\n",
       "      <td>both</td>\n",
       "      <td>Regular busy</td>\n",
       "      <td>Regular days</td>\n",
       "      <td>22</td>\n",
       "      <td>22</td>\n",
       "    </tr>\n",
       "    <tr>\n",
       "      <th>83</th>\n",
       "      <td>both</td>\n",
       "      <td>Regular busy</td>\n",
       "      <td>Regular days</td>\n",
       "      <td>22</td>\n",
       "      <td>22</td>\n",
       "    </tr>\n",
       "    <tr>\n",
       "      <th>84</th>\n",
       "      <td>both</td>\n",
       "      <td>Regular busy</td>\n",
       "      <td>Regular days</td>\n",
       "      <td>22</td>\n",
       "      <td>22</td>\n",
       "    </tr>\n",
       "    <tr>\n",
       "      <th>85</th>\n",
       "      <td>both</td>\n",
       "      <td>Regular busy</td>\n",
       "      <td>Busiest days</td>\n",
       "      <td>22</td>\n",
       "      <td>22</td>\n",
       "    </tr>\n",
       "    <tr>\n",
       "      <th>86</th>\n",
       "      <td>both</td>\n",
       "      <td>Regular busy</td>\n",
       "      <td>Regular days</td>\n",
       "      <td>22</td>\n",
       "      <td>22</td>\n",
       "    </tr>\n",
       "    <tr>\n",
       "      <th>87</th>\n",
       "      <td>both</td>\n",
       "      <td>Regular busy</td>\n",
       "      <td>Regular days</td>\n",
       "      <td>22</td>\n",
       "      <td>22</td>\n",
       "    </tr>\n",
       "    <tr>\n",
       "      <th>88</th>\n",
       "      <td>both</td>\n",
       "      <td>Regular busy</td>\n",
       "      <td>Busiest days</td>\n",
       "      <td>22</td>\n",
       "      <td>22</td>\n",
       "    </tr>\n",
       "    <tr>\n",
       "      <th>89</th>\n",
       "      <td>both</td>\n",
       "      <td>Regular busy</td>\n",
       "      <td>Busiest days</td>\n",
       "      <td>22</td>\n",
       "      <td>22</td>\n",
       "    </tr>\n",
       "    <tr>\n",
       "      <th>90</th>\n",
       "      <td>both</td>\n",
       "      <td>Regular busy</td>\n",
       "      <td>Regular days</td>\n",
       "      <td>22</td>\n",
       "      <td>22</td>\n",
       "    </tr>\n",
       "    <tr>\n",
       "      <th>91</th>\n",
       "      <td>both</td>\n",
       "      <td>Regular busy</td>\n",
       "      <td>Busiest days</td>\n",
       "      <td>22</td>\n",
       "      <td>22</td>\n",
       "    </tr>\n",
       "    <tr>\n",
       "      <th>92</th>\n",
       "      <td>both</td>\n",
       "      <td>Regular busy</td>\n",
       "      <td>Regular days</td>\n",
       "      <td>22</td>\n",
       "      <td>22</td>\n",
       "    </tr>\n",
       "    <tr>\n",
       "      <th>93</th>\n",
       "      <td>both</td>\n",
       "      <td>Regular busy</td>\n",
       "      <td>Regular days</td>\n",
       "      <td>22</td>\n",
       "      <td>22</td>\n",
       "    </tr>\n",
       "    <tr>\n",
       "      <th>94</th>\n",
       "      <td>both</td>\n",
       "      <td>Regular busy</td>\n",
       "      <td>Busiest days</td>\n",
       "      <td>22</td>\n",
       "      <td>22</td>\n",
       "    </tr>\n",
       "    <tr>\n",
       "      <th>95</th>\n",
       "      <td>both</td>\n",
       "      <td>Least busy</td>\n",
       "      <td>Slowest days</td>\n",
       "      <td>22</td>\n",
       "      <td>22</td>\n",
       "    </tr>\n",
       "    <tr>\n",
       "      <th>96</th>\n",
       "      <td>both</td>\n",
       "      <td>Regular busy</td>\n",
       "      <td>Busiest days</td>\n",
       "      <td>22</td>\n",
       "      <td>22</td>\n",
       "    </tr>\n",
       "    <tr>\n",
       "      <th>97</th>\n",
       "      <td>both</td>\n",
       "      <td>Regular busy</td>\n",
       "      <td>Regular days</td>\n",
       "      <td>22</td>\n",
       "      <td>22</td>\n",
       "    </tr>\n",
       "    <tr>\n",
       "      <th>98</th>\n",
       "      <td>both</td>\n",
       "      <td>Regular busy</td>\n",
       "      <td>Regular days</td>\n",
       "      <td>22</td>\n",
       "      <td>22</td>\n",
       "    </tr>\n",
       "    <tr>\n",
       "      <th>99</th>\n",
       "      <td>both</td>\n",
       "      <td>Regular busy</td>\n",
       "      <td>Busiest days</td>\n",
       "      <td>22</td>\n",
       "      <td>22</td>\n",
       "    </tr>\n",
       "  </tbody>\n",
       "</table>\n",
       "</div>"
      ],
      "text/plain": [
       "   _merge   busiest_day  Busiest_days  max order  max_order\n",
       "0    both  Regular busy  Regular days         10         10\n",
       "1    both  Regular busy  Slowest days         10         10\n",
       "2    both  Regular busy  Slowest days         10         10\n",
       "3    both    Least busy  Slowest days         10         10\n",
       "4    both    Least busy  Slowest days         10         10\n",
       "5    both  Regular busy  Regular days         10         10\n",
       "6    both  Regular busy  Busiest days         10         10\n",
       "7    both  Regular busy  Busiest days         10         10\n",
       "8    both  Regular busy  Busiest days         10         10\n",
       "9    both    Least busy  Slowest days         10         10\n",
       "10   both  Regular busy  Regular days         10         10\n",
       "11   both  Regular busy  Regular days         10         10\n",
       "12   both  Regular busy  Slowest days         10         10\n",
       "13   both  Regular busy  Slowest days         10         10\n",
       "14   both    Least busy  Slowest days         10         10\n",
       "15   both    Least busy  Slowest days         10         10\n",
       "16   both  Regular busy  Regular days         10         10\n",
       "17   both  Regular busy  Busiest days         10         10\n",
       "18   both  Regular busy  Busiest days         10         10\n",
       "19   both  Regular busy  Busiest days         10         10\n",
       "20   both    Least busy  Slowest days         10         10\n",
       "21   both  Regular busy  Regular days         10         10\n",
       "22   both  Regular busy  Slowest days         10         10\n",
       "23   both  Regular busy  Regular days         10         10\n",
       "24   both    Least busy  Slowest days         10         10\n",
       "25   both  Regular busy  Slowest days         10         10\n",
       "26   both  Regular busy  Slowest days         10         10\n",
       "27   both    Least busy  Slowest days         10         10\n",
       "28   both    Least busy  Slowest days         10         10\n",
       "29   both  Regular busy  Regular days         10         10\n",
       "30   both  Regular busy  Busiest days         10         10\n",
       "31   both  Regular busy  Busiest days         10         10\n",
       "32   both  Regular busy  Busiest days         10         10\n",
       "33   both    Least busy  Slowest days         10         10\n",
       "34   both  Regular busy  Slowest days         10         10\n",
       "35   both    Least busy  Slowest days         10         10\n",
       "36   both  Regular busy  Slowest days         10         10\n",
       "37   both  Regular busy  Busiest days         10         10\n",
       "38   both    Least busy  Slowest days         10         10\n",
       "39   both  Regular busy  Slowest days         10         10\n",
       "40   both    Least busy  Slowest days         10         10\n",
       "41   both    Least busy  Slowest days         10         10\n",
       "42   both  Regular busy  Regular days         10         10\n",
       "43   both  Regular busy  Busiest days         10         10\n",
       "44   both  Regular busy  Busiest days         10         10\n",
       "45   both  Regular busy  Busiest days         10         10\n",
       "46   both    Least busy  Slowest days         10         10\n",
       "47   both  Regular busy  Slowest days         10         10\n",
       "48   both    Least busy  Slowest days         10         10\n",
       "49   both    Least busy  Slowest days         10         10\n",
       "50   both    Least busy  Slowest days         10         10\n",
       "51   both  Regular busy  Busiest days         10         10\n",
       "52   both  Regular busy  Busiest days         10         10\n",
       "53   both    Least busy  Slowest days         10         10\n",
       "54   both  Regular busy  Busiest days         10         10\n",
       "55   both  Regular busy  Busiest days         10         10\n",
       "56   both    Least busy  Slowest days         10         10\n",
       "57   both    Least busy  Slowest days         10         10\n",
       "58   both    Least busy  Slowest days         10         10\n",
       "59   both  Regular busy  Busiest days         22         22\n",
       "60   both  Regular busy  Regular days         22         22\n",
       "61   both  Regular busy  Regular days         22         22\n",
       "62   both  Regular busy  Busiest days         22         22\n",
       "63   both  Regular busy  Busiest days         22         22\n",
       "64   both  Regular busy  Regular days         22         22\n",
       "65   both  Regular busy  Regular days         22         22\n",
       "66   both  Regular busy  Busiest days         22         22\n",
       "67   both  Regular busy  Regular days         22         22\n",
       "68   both  Regular busy  Busiest days         22         22\n",
       "69   both  Regular busy  Busiest days         22         22\n",
       "70   both  Regular busy  Busiest days         22         22\n",
       "71   both  Regular busy  Regular days         22         22\n",
       "72   both  Regular busy  Regular days         22         22\n",
       "73   both  Regular busy  Busiest days         22         22\n",
       "74   both  Regular busy  Regular days         22         22\n",
       "75   both  Regular busy  Regular days         22         22\n",
       "76   both  Regular busy  Regular days         22         22\n",
       "77   both  Regular busy  Busiest days         22         22\n",
       "78   both  Regular busy  Regular days         22         22\n",
       "79   both  Regular busy  Regular days         22         22\n",
       "80   both  Regular busy  Busiest days         22         22\n",
       "81   both  Regular busy  Busiest days         22         22\n",
       "82   both  Regular busy  Regular days         22         22\n",
       "83   both  Regular busy  Regular days         22         22\n",
       "84   both  Regular busy  Regular days         22         22\n",
       "85   both  Regular busy  Busiest days         22         22\n",
       "86   both  Regular busy  Regular days         22         22\n",
       "87   both  Regular busy  Regular days         22         22\n",
       "88   both  Regular busy  Busiest days         22         22\n",
       "89   both  Regular busy  Busiest days         22         22\n",
       "90   both  Regular busy  Regular days         22         22\n",
       "91   both  Regular busy  Busiest days         22         22\n",
       "92   both  Regular busy  Regular days         22         22\n",
       "93   both  Regular busy  Regular days         22         22\n",
       "94   both  Regular busy  Busiest days         22         22\n",
       "95   both    Least busy  Slowest days         22         22\n",
       "96   both  Regular busy  Busiest days         22         22\n",
       "97   both  Regular busy  Regular days         22         22\n",
       "98   both  Regular busy  Regular days         22         22\n",
       "99   both  Regular busy  Busiest days         22         22"
      ]
     },
     "execution_count": 6,
     "metadata": {},
     "output_type": "execute_result"
    }
   ],
   "source": [
    "main_df[['_merge', 'busiest_day', 'Busiest_days', 'max order', 'max_order']].head(100)"
   ]
  },
  {
   "cell_type": "code",
   "execution_count": 7,
   "id": "15d6fdd3",
   "metadata": {},
   "outputs": [],
   "source": [
    "# '_merge' is no longer needed. Columns 'busiest_day' and 'Busiest_days' have different values. Seems like 'max order' \n",
    "# and 'max_order' have the same information. \n",
    "df_main = main_df.drop(columns = ['_merge', 'max order'])"
   ]
  },
  {
   "cell_type": "code",
   "execution_count": 8,
   "id": "4dc9e8b7",
   "metadata": {},
   "outputs": [
    {
     "name": "stdout",
     "output_type": "stream",
     "text": [
      "<class 'pandas.core.frame.DataFrame'>\n",
      "Int64Index: 30964564 entries, 0 to 32404854\n",
      "Data columns (total 31 columns):\n",
      " #   Column                         Dtype  \n",
      "---  ------                         -----  \n",
      " 0   order_id                       int64  \n",
      " 1   user_id                        int64  \n",
      " 2   order_number                   int64  \n",
      " 3   orders_day_of_week             int64  \n",
      " 4   order_time_of_day              int64  \n",
      " 5   days_since_prior_order         float64\n",
      " 6   product_id                     int64  \n",
      " 7   add_to_cart_order              int64  \n",
      " 8   reordered                      int64  \n",
      " 9   product_name                   object \n",
      " 10  aisle_id                       int64  \n",
      " 11  department_id                  int64  \n",
      " 12  prices                         float64\n",
      " 13  busiest_day                    object \n",
      " 14  Busiest_days                   object \n",
      " 15  busiest_period_of_day          object \n",
      " 16  max_order                      int64  \n",
      " 17  loyalty_flag                   object \n",
      " 18  mean_price_of_product          float64\n",
      " 19  spender_type_flag              object \n",
      " 20  customer_frequency_flag        object \n",
      " 21  median_days_since_prior_order  float64\n",
      " 22  gender                         object \n",
      " 23  state                          object \n",
      " 24  age                            int64  \n",
      " 25  date_joined                    object \n",
      " 26  n_dependants                   int64  \n",
      " 27  fam_status                     object \n",
      " 28  income                         int64  \n",
      " 29  region                         object \n",
      " 30  exclusion_flag                 object \n",
      "dtypes: float64(4), int64(14), object(13)\n",
      "memory usage: 7.4+ GB\n"
     ]
    }
   ],
   "source": [
    "df_main.info()"
   ]
  },
  {
   "cell_type": "code",
   "execution_count": 9,
   "id": "e9b348a8",
   "metadata": {},
   "outputs": [],
   "source": [
    "# Changing datatype of categorical columns from string to category\n",
    "df_main['busiest_day'] = df_main['busiest_day'].astype('category')"
   ]
  },
  {
   "cell_type": "code",
   "execution_count": 10,
   "id": "f4a145e2",
   "metadata": {},
   "outputs": [],
   "source": [
    "df_main['Busiest_days'] = df_main['Busiest_days'].astype('category')"
   ]
  },
  {
   "cell_type": "code",
   "execution_count": 11,
   "id": "3f0b9bee",
   "metadata": {},
   "outputs": [],
   "source": [
    "df_main['busiest_period_of_day'] = df_main['busiest_period_of_day'].astype('category')"
   ]
  },
  {
   "cell_type": "code",
   "execution_count": 12,
   "id": "9d96383d",
   "metadata": {},
   "outputs": [],
   "source": [
    "df_main['loyalty_flag'] = df_main['loyalty_flag'].astype('category')"
   ]
  },
  {
   "cell_type": "code",
   "execution_count": 13,
   "id": "6f8fca6c",
   "metadata": {},
   "outputs": [],
   "source": [
    "df_main['spender_type_flag'] = df_main['spender_type_flag'].astype('category')"
   ]
  },
  {
   "cell_type": "code",
   "execution_count": 14,
   "id": "6799c567",
   "metadata": {},
   "outputs": [],
   "source": [
    "df_main['customer_frequency_flag'] = df_main['customer_frequency_flag'].astype('category')"
   ]
  },
  {
   "cell_type": "code",
   "execution_count": 15,
   "id": "bc223795",
   "metadata": {},
   "outputs": [],
   "source": [
    "df_main['gender'] = df_main['gender'].astype('category')"
   ]
  },
  {
   "cell_type": "code",
   "execution_count": 16,
   "id": "a2773c7d",
   "metadata": {},
   "outputs": [],
   "source": [
    "df_main['fam_status'] = df_main['fam_status'].astype('category')"
   ]
  },
  {
   "cell_type": "code",
   "execution_count": 17,
   "id": "61b799e9",
   "metadata": {},
   "outputs": [],
   "source": [
    "df_main['region'] = df_main['region'].astype('category')"
   ]
  },
  {
   "cell_type": "code",
   "execution_count": 18,
   "id": "8a75c89c",
   "metadata": {},
   "outputs": [
    {
     "name": "stdout",
     "output_type": "stream",
     "text": [
      "<class 'pandas.core.frame.DataFrame'>\n",
      "Int64Index: 30964564 entries, 0 to 32404854\n",
      "Data columns (total 31 columns):\n",
      " #   Column                         Dtype   \n",
      "---  ------                         -----   \n",
      " 0   order_id                       int64   \n",
      " 1   user_id                        int64   \n",
      " 2   order_number                   int64   \n",
      " 3   orders_day_of_week             int64   \n",
      " 4   order_time_of_day              int64   \n",
      " 5   days_since_prior_order         float64 \n",
      " 6   product_id                     int64   \n",
      " 7   add_to_cart_order              int64   \n",
      " 8   reordered                      int64   \n",
      " 9   product_name                   object  \n",
      " 10  aisle_id                       int64   \n",
      " 11  department_id                  int64   \n",
      " 12  prices                         float64 \n",
      " 13  busiest_day                    category\n",
      " 14  Busiest_days                   category\n",
      " 15  busiest_period_of_day          category\n",
      " 16  max_order                      int64   \n",
      " 17  loyalty_flag                   category\n",
      " 18  mean_price_of_product          float64 \n",
      " 19  spender_type_flag              category\n",
      " 20  customer_frequency_flag        category\n",
      " 21  median_days_since_prior_order  float64 \n",
      " 22  gender                         category\n",
      " 23  state                          object  \n",
      " 24  age                            int64   \n",
      " 25  date_joined                    object  \n",
      " 26  n_dependants                   int64   \n",
      " 27  fam_status                     category\n",
      " 28  income                         int64   \n",
      " 29  region                         category\n",
      " 30  exclusion_flag                 object  \n",
      "dtypes: category(9), float64(4), int64(14), object(4)\n",
      "memory usage: 5.6+ GB\n"
     ]
    }
   ],
   "source": [
    "df_main.info()"
   ]
  },
  {
   "cell_type": "code",
   "execution_count": 19,
   "id": "0bb075ca",
   "metadata": {},
   "outputs": [],
   "source": [
    "# Dropping columns decreased memory usage from 7.6+ GB to 7.4+ GB\n",
    "# Changing string data types to category decreased memory usage from 7.4+ GB to 5.6+ GB. "
   ]
  },
  {
   "cell_type": "markdown",
   "id": "2e1e211a",
   "metadata": {},
   "source": [
    "Creating new customer profiling variables for further insights.  \n",
    "Creating age range profile:"
   ]
  },
  {
   "cell_type": "code",
   "execution_count": 20,
   "id": "86001515",
   "metadata": {},
   "outputs": [
    {
     "data": {
      "text/plain": [
       "81"
      ]
     },
     "execution_count": 20,
     "metadata": {},
     "output_type": "execute_result"
    }
   ],
   "source": [
    "df_main['age'].max()"
   ]
  },
  {
   "cell_type": "code",
   "execution_count": 21,
   "id": "e974f91f",
   "metadata": {},
   "outputs": [
    {
     "data": {
      "text/plain": [
       "18"
      ]
     },
     "execution_count": 21,
     "metadata": {},
     "output_type": "execute_result"
    }
   ],
   "source": [
    "df_main['age'].min()"
   ]
  },
  {
   "cell_type": "code",
   "execution_count": 22,
   "id": "f29cf74e",
   "metadata": {},
   "outputs": [],
   "source": [
    "df_main.loc[df_main['age'] < 20, 'profile_age'] = '19 & under'"
   ]
  },
  {
   "cell_type": "code",
   "execution_count": 23,
   "id": "8b9440b1",
   "metadata": {},
   "outputs": [],
   "source": [
    "df_main.loc[(df_main['age'] >= 20) & (df_main['age'] < 30), 'profile_age'] = '20s'"
   ]
  },
  {
   "cell_type": "code",
   "execution_count": 24,
   "id": "0b6e149f",
   "metadata": {},
   "outputs": [],
   "source": [
    "df_main.loc[(df_main['age'] >= 30) & (df_main['age'] < 40), 'profile_age'] = '30s'"
   ]
  },
  {
   "cell_type": "code",
   "execution_count": 25,
   "id": "52a6f522",
   "metadata": {},
   "outputs": [],
   "source": [
    "df_main.loc[(df_main['age'] >= 40) & (df_main['age'] < 50), 'profile_age'] = '40s'"
   ]
  },
  {
   "cell_type": "code",
   "execution_count": 26,
   "id": "eb577ce7",
   "metadata": {},
   "outputs": [],
   "source": [
    "df_main.loc[(df_main['age'] >= 50) & (df_main['age'] < 60), 'profile_age'] = '50s'"
   ]
  },
  {
   "cell_type": "code",
   "execution_count": 27,
   "id": "dda49df4",
   "metadata": {},
   "outputs": [],
   "source": [
    "df_main.loc[(df_main['age'] >= 60) & (df_main['age'] < 70), 'profile_age'] = '60s'"
   ]
  },
  {
   "cell_type": "code",
   "execution_count": 28,
   "id": "bd82bce8",
   "metadata": {},
   "outputs": [],
   "source": [
    "df_main.loc[(df_main['age'] >= 70) & (df_main['age'] < 80), 'profile_age'] = '70s'"
   ]
  },
  {
   "cell_type": "code",
   "execution_count": 29,
   "id": "8ea93143",
   "metadata": {},
   "outputs": [],
   "source": [
    "df_main.loc[df_main['age'] >= 80, 'profile_age'] = '80 & over'"
   ]
  },
  {
   "cell_type": "code",
   "execution_count": 30,
   "id": "d8ca2c20",
   "metadata": {},
   "outputs": [
    {
     "data": {
      "text/plain": [
       "40s           4883179\n",
       "30s           4847507\n",
       "20s           4843069\n",
       "50s           4841771\n",
       "70s           4834286\n",
       "60s           4761621\n",
       "80 & over      978597\n",
       "19 & under     974534\n",
       "Name: profile_age, dtype: int64"
      ]
     },
     "execution_count": 30,
     "metadata": {},
     "output_type": "execute_result"
    }
   ],
   "source": [
    "df_main['profile_age'].value_counts(dropna = False)"
   ]
  },
  {
   "cell_type": "markdown",
   "id": "cfb6d678",
   "metadata": {},
   "source": [
    "Creating income bracket profile:"
   ]
  },
  {
   "cell_type": "code",
   "execution_count": 31,
   "id": "99e83c40",
   "metadata": {},
   "outputs": [
    {
     "data": {
      "text/plain": [
       "25903"
      ]
     },
     "execution_count": 31,
     "metadata": {},
     "output_type": "execute_result"
    }
   ],
   "source": [
    "df_main['income'].min()"
   ]
  },
  {
   "cell_type": "code",
   "execution_count": 32,
   "id": "0e525f18",
   "metadata": {},
   "outputs": [
    {
     "data": {
      "text/plain": [
       "593901"
      ]
     },
     "execution_count": 32,
     "metadata": {},
     "output_type": "execute_result"
    }
   ],
   "source": [
    "df_main['income'].max()"
   ]
  },
  {
   "cell_type": "code",
   "execution_count": 33,
   "id": "4e028a50",
   "metadata": {},
   "outputs": [],
   "source": [
    "df_main.loc[df_main['income'] < 30000, 'profile_income'] = '25K ~ 29K'"
   ]
  },
  {
   "cell_type": "code",
   "execution_count": 34,
   "id": "c96e205e",
   "metadata": {},
   "outputs": [],
   "source": [
    "df_main.loc[(df_main['income'] >= 30000) & (df_main['income'] < 40000), 'profile_income'] = '30K ~ 39K'"
   ]
  },
  {
   "cell_type": "code",
   "execution_count": 35,
   "id": "a128cbaa",
   "metadata": {},
   "outputs": [],
   "source": [
    "df_main.loc[(df_main['income'] >= 40000) & (df_main['income'] < 50000), 'profile_income'] = '40K ~ 49K'"
   ]
  },
  {
   "cell_type": "code",
   "execution_count": 36,
   "id": "a5cbba1b",
   "metadata": {},
   "outputs": [],
   "source": [
    "df_main.loc[(df_main['income'] >= 50000) & (df_main['income'] < 60000), 'profile_income'] = '50K ~ 59K'"
   ]
  },
  {
   "cell_type": "code",
   "execution_count": 37,
   "id": "3c26d247",
   "metadata": {},
   "outputs": [],
   "source": [
    "df_main.loc[(df_main['income'] >= 60000) & (df_main['income'] < 70000), 'profile_income'] = '60K ~ 69K'"
   ]
  },
  {
   "cell_type": "code",
   "execution_count": 38,
   "id": "d6e2f617",
   "metadata": {},
   "outputs": [],
   "source": [
    "df_main.loc[(df_main['income'] >= 70000) & (df_main['income'] < 80000), 'profile_income'] = '70K ~ 79K'"
   ]
  },
  {
   "cell_type": "code",
   "execution_count": 39,
   "id": "540b66d2",
   "metadata": {},
   "outputs": [],
   "source": [
    "df_main.loc[(df_main['income'] >= 80000) & (df_main['income'] < 90000), 'profile_income'] = '80K ~ 89K'"
   ]
  },
  {
   "cell_type": "code",
   "execution_count": 40,
   "id": "32a6fced",
   "metadata": {},
   "outputs": [],
   "source": [
    "df_main.loc[(df_main['income'] >= 90000) & (df_main['income'] < 100000), 'profile_income'] = '90K ~ 99K'"
   ]
  },
  {
   "cell_type": "code",
   "execution_count": 41,
   "id": "c21190aa",
   "metadata": {},
   "outputs": [],
   "source": [
    "df_main.loc[(df_main['income'] >= 100000) & (df_main['income'] < 150000), 'profile_income'] = '100K ~ 149K'"
   ]
  },
  {
   "cell_type": "code",
   "execution_count": 42,
   "id": "b9f6ca37",
   "metadata": {},
   "outputs": [],
   "source": [
    "df_main.loc[(df_main['income'] >= 150000) & (df_main['income'] < 200000), 'profile_income'] = '150K ~ 199K'"
   ]
  },
  {
   "cell_type": "code",
   "execution_count": 43,
   "id": "62f75057",
   "metadata": {},
   "outputs": [],
   "source": [
    "df_main.loc[(df_main['income'] >= 200000) & (df_main['income'] < 300000), 'profile_income'] = '200K ~ 299K'"
   ]
  },
  {
   "cell_type": "code",
   "execution_count": 44,
   "id": "25a7ad67",
   "metadata": {},
   "outputs": [],
   "source": [
    "df_main.loc[(df_main['income'] >= 300000) & (df_main['income'] < 400000), 'profile_income'] = '300K ~ 399K'"
   ]
  },
  {
   "cell_type": "code",
   "execution_count": 45,
   "id": "a310f937",
   "metadata": {},
   "outputs": [],
   "source": [
    "df_main.loc[(df_main['income'] >= 400000) & (df_main['income'] < 500000), 'profile_income'] = '400K ~ 499K'"
   ]
  },
  {
   "cell_type": "code",
   "execution_count": 46,
   "id": "ee5aaf58",
   "metadata": {},
   "outputs": [],
   "source": [
    "df_main.loc[df_main['income'] >= 500000, 'profile_income'] = '500K ~ 599K'"
   ]
  },
  {
   "cell_type": "code",
   "execution_count": 47,
   "id": "199031f1",
   "metadata": {},
   "outputs": [
    {
     "data": {
      "text/plain": [
       "100K ~ 149K    10312127\n",
       "150K ~ 199K     3641133\n",
       "90K ~ 99K       3622542\n",
       "60K ~ 69K       2717783\n",
       "70K ~ 79K       2471115\n",
       "50K ~ 59K       2440196\n",
       "80K ~ 89K       2142972\n",
       "40K ~ 49K       1750529\n",
       "30K ~ 39K       1418155\n",
       "25K ~ 29K        193870\n",
       "200K ~ 299K      154113\n",
       "300K ~ 399K       53033\n",
       "400K ~ 499K       27927\n",
       "500K ~ 599K       19069\n",
       "Name: profile_income, dtype: int64"
      ]
     },
     "execution_count": 47,
     "metadata": {},
     "output_type": "execute_result"
    }
   ],
   "source": [
    "df_main['profile_income'].value_counts(dropna = False)"
   ]
  },
  {
   "cell_type": "markdown",
   "id": "9965b207",
   "metadata": {},
   "source": [
    "Creating parental status profile: "
   ]
  },
  {
   "cell_type": "code",
   "execution_count": 48,
   "id": "9b319421",
   "metadata": {},
   "outputs": [],
   "source": [
    "df_main.loc[df_main['n_dependants'] < 1, 'profile_parental'] = 'NOT Parent'"
   ]
  },
  {
   "cell_type": "code",
   "execution_count": 49,
   "id": "da7ae9f8",
   "metadata": {},
   "outputs": [],
   "source": [
    "df_main.loc[df_main['n_dependants'] >= 1, 'profile_parental'] = 'Parent'"
   ]
  },
  {
   "cell_type": "code",
   "execution_count": 50,
   "id": "2c00792b",
   "metadata": {},
   "outputs": [
    {
     "data": {
      "text/plain": [
       "(30964564, 34)"
      ]
     },
     "execution_count": 50,
     "metadata": {},
     "output_type": "execute_result"
    }
   ],
   "source": [
    "df_main.shape"
   ]
  },
  {
   "cell_type": "code",
   "execution_count": 51,
   "id": "2e7ebcc6",
   "metadata": {},
   "outputs": [
    {
     "data": {
      "text/plain": [
       "Parent        23224883\n",
       "NOT Parent     7739681\n",
       "Name: profile_parental, dtype: int64"
      ]
     },
     "execution_count": 51,
     "metadata": {},
     "output_type": "execute_result"
    }
   ],
   "source": [
    "df_main['profile_parental'].value_counts(dropna = False)"
   ]
  },
  {
   "cell_type": "code",
   "execution_count": 52,
   "id": "098626f9",
   "metadata": {},
   "outputs": [
    {
     "data": {
      "text/plain": [
       "30964564"
      ]
     },
     "execution_count": 52,
     "metadata": {},
     "output_type": "execute_result"
    }
   ],
   "source": [
    "23224883 +  7739681"
   ]
  },
  {
   "cell_type": "markdown",
   "id": "4eb2dd5f",
   "metadata": {},
   "source": [
    "Changing data types of newly created profile columns to category."
   ]
  },
  {
   "cell_type": "code",
   "execution_count": 53,
   "id": "4daccde9",
   "metadata": {},
   "outputs": [],
   "source": [
    "df_main['profile_age'] = df_main['profile_age'].astype('category')"
   ]
  },
  {
   "cell_type": "code",
   "execution_count": 54,
   "id": "cd281dd7",
   "metadata": {},
   "outputs": [],
   "source": [
    "df_main['profile_income'] = df_main['profile_income'].astype('category')"
   ]
  },
  {
   "cell_type": "code",
   "execution_count": 55,
   "id": "a4ade67d",
   "metadata": {},
   "outputs": [],
   "source": [
    "df_main['profile_parental'] = df_main['profile_parental'].astype('category')"
   ]
  },
  {
   "cell_type": "code",
   "execution_count": 56,
   "id": "f9f86f42",
   "metadata": {},
   "outputs": [
    {
     "name": "stdout",
     "output_type": "stream",
     "text": [
      "<class 'pandas.core.frame.DataFrame'>\n",
      "Int64Index: 30964564 entries, 0 to 32404854\n",
      "Data columns (total 34 columns):\n",
      " #   Column                         Dtype   \n",
      "---  ------                         -----   \n",
      " 0   order_id                       int64   \n",
      " 1   user_id                        int64   \n",
      " 2   order_number                   int64   \n",
      " 3   orders_day_of_week             int64   \n",
      " 4   order_time_of_day              int64   \n",
      " 5   days_since_prior_order         float64 \n",
      " 6   product_id                     int64   \n",
      " 7   add_to_cart_order              int64   \n",
      " 8   reordered                      int64   \n",
      " 9   product_name                   object  \n",
      " 10  aisle_id                       int64   \n",
      " 11  department_id                  int64   \n",
      " 12  prices                         float64 \n",
      " 13  busiest_day                    category\n",
      " 14  Busiest_days                   category\n",
      " 15  busiest_period_of_day          category\n",
      " 16  max_order                      int64   \n",
      " 17  loyalty_flag                   category\n",
      " 18  mean_price_of_product          float64 \n",
      " 19  spender_type_flag              category\n",
      " 20  customer_frequency_flag        category\n",
      " 21  median_days_since_prior_order  float64 \n",
      " 22  gender                         category\n",
      " 23  state                          object  \n",
      " 24  age                            int64   \n",
      " 25  date_joined                    object  \n",
      " 26  n_dependants                   int64   \n",
      " 27  fam_status                     category\n",
      " 28  income                         int64   \n",
      " 29  region                         category\n",
      " 30  exclusion_flag                 object  \n",
      " 31  profile_age                    category\n",
      " 32  profile_income                 category\n",
      " 33  profile_parental               category\n",
      "dtypes: category(12), float64(4), int64(14), object(4)\n",
      "memory usage: 5.7+ GB\n"
     ]
    }
   ],
   "source": [
    "df_main.info()"
   ]
  },
  {
   "cell_type": "markdown",
   "id": "2d1bb132",
   "metadata": {},
   "source": [
    "Creating crosstabs for more insight:\n",
    "Crosstab: single-parent status "
   ]
  },
  {
   "cell_type": "code",
   "execution_count": null,
   "id": "2fb0ffe5",
   "metadata": {},
   "outputs": [],
   "source": [
    "xtab_singl_p = pd.crosstab(df_main['fam_status'], df_main['profile_parental'], dropna = False)"
   ]
  },
  {
   "cell_type": "code",
   "execution_count": null,
   "id": "25a5271b",
   "metadata": {},
   "outputs": [],
   "source": [
    "xtab_singl_p"
   ]
  },
  {
   "cell_type": "code",
   "execution_count": null,
   "id": "3c3ee269",
   "metadata": {},
   "outputs": [],
   "source": [
    "xtab_singl_p.to_clipboard()"
   ]
  },
  {
   "cell_type": "markdown",
   "id": "7c15ce14",
   "metadata": {},
   "source": [
    "Crosstab: loyalty & age-range/region/income/parental"
   ]
  },
  {
   "cell_type": "code",
   "execution_count": null,
   "id": "5a26dedc",
   "metadata": {},
   "outputs": [],
   "source": [
    "# loyalty and age-range\n",
    "xtab_loyalty_age = pd.crosstab(df_main['loyalty_flag'], df_main['profile_age'], dropna = False)"
   ]
  },
  {
   "cell_type": "code",
   "execution_count": null,
   "id": "f81d4473",
   "metadata": {},
   "outputs": [],
   "source": [
    "xtab_loyalty_age"
   ]
  },
  {
   "cell_type": "code",
   "execution_count": null,
   "id": "4ab9ce66",
   "metadata": {},
   "outputs": [],
   "source": [
    "xtab_loyalty_age.to_clipboard()"
   ]
  },
  {
   "cell_type": "code",
   "execution_count": null,
   "id": "da926f98",
   "metadata": {},
   "outputs": [],
   "source": [
    "# loyalty and region\n",
    "xtab_loyalty_region = pd.crosstab(df_main['loyalty_flag'], df_main['region'], dropna = False)"
   ]
  },
  {
   "cell_type": "code",
   "execution_count": null,
   "id": "41eb720d",
   "metadata": {},
   "outputs": [],
   "source": [
    "xtab_loyalty_region"
   ]
  },
  {
   "cell_type": "code",
   "execution_count": null,
   "id": "ae6d2d08",
   "metadata": {},
   "outputs": [],
   "source": [
    "xtab_loyalty_region.to_clipboard()"
   ]
  },
  {
   "cell_type": "code",
   "execution_count": null,
   "id": "e4a5243a",
   "metadata": {},
   "outputs": [],
   "source": [
    "# loyalty and income-range\n",
    "xtab_loyalty_income = pd.crosstab(df_main['loyalty_flag'], df_main['profile_income'], dropna = False)"
   ]
  },
  {
   "cell_type": "code",
   "execution_count": null,
   "id": "ae7c79a9",
   "metadata": {},
   "outputs": [],
   "source": [
    "xtab_loyalty_income"
   ]
  },
  {
   "cell_type": "code",
   "execution_count": null,
   "id": "84996624",
   "metadata": {},
   "outputs": [],
   "source": [
    "xtab_loyalty_income.to_clipboard()"
   ]
  },
  {
   "cell_type": "code",
   "execution_count": null,
   "id": "cdaf8b1e",
   "metadata": {},
   "outputs": [],
   "source": [
    "# loyalty and parental-status\n",
    "xtab_loyalty_parental = pd.crosstab(df_main['loyalty_flag'], df_main['profile_parental'], dropna = False)"
   ]
  },
  {
   "cell_type": "code",
   "execution_count": null,
   "id": "b78f2aa5",
   "metadata": {},
   "outputs": [],
   "source": [
    "xtab_loyalty_parental"
   ]
  },
  {
   "cell_type": "code",
   "execution_count": null,
   "id": "2b07c9d0",
   "metadata": {},
   "outputs": [],
   "source": [
    "xtab_loyalty_parental.to_clipboard()"
   ]
  },
  {
   "cell_type": "markdown",
   "id": "4ad19476",
   "metadata": {},
   "source": [
    "Crosstab: customer-frequency and age/gender/parental/income/fam-status"
   ]
  },
  {
   "cell_type": "code",
   "execution_count": null,
   "id": "176395ea",
   "metadata": {},
   "outputs": [],
   "source": [
    "# customer-frequency and age-range\n",
    "xtab_cstfrqncy_age = pd.crosstab(df_main['customer_frequency_flag'], df_main['profile_age'], dropna = False)"
   ]
  },
  {
   "cell_type": "code",
   "execution_count": null,
   "id": "12b1e434",
   "metadata": {},
   "outputs": [],
   "source": [
    "xtab_cstfrqncy_age"
   ]
  },
  {
   "cell_type": "code",
   "execution_count": null,
   "id": "fa6b5989",
   "metadata": {},
   "outputs": [],
   "source": [
    "xtab_cstfrqncy_age.to_clipboard()"
   ]
  },
  {
   "cell_type": "code",
   "execution_count": null,
   "id": "bb87add3",
   "metadata": {},
   "outputs": [],
   "source": [
    "# customer-frequency and gender\n",
    "xtab_cstfrqncy_gender = pd.crosstab(df_main['customer_frequency_flag'], df_main['gender'], dropna = False)"
   ]
  },
  {
   "cell_type": "code",
   "execution_count": null,
   "id": "02060fb1",
   "metadata": {},
   "outputs": [],
   "source": [
    "xtab_cstfrqncy_gender"
   ]
  },
  {
   "cell_type": "code",
   "execution_count": null,
   "id": "53977cd7",
   "metadata": {},
   "outputs": [],
   "source": [
    "xtab_cstfrqncy_gender.to_clipboard()"
   ]
  },
  {
   "cell_type": "code",
   "execution_count": null,
   "id": "bafb523c",
   "metadata": {},
   "outputs": [],
   "source": [
    "# customer-frequency and parental-status\n",
    "xtab_cstfrqncy_parent = pd.crosstab(df_main['customer_frequency_flag'], df_main['profile_parental'], dropna = False)"
   ]
  },
  {
   "cell_type": "code",
   "execution_count": null,
   "id": "ec10fbfe",
   "metadata": {},
   "outputs": [],
   "source": [
    "xtab_cstfrqncy_parent "
   ]
  },
  {
   "cell_type": "code",
   "execution_count": null,
   "id": "2a9a2db5",
   "metadata": {},
   "outputs": [],
   "source": [
    "xtab_cstfrqncy_parent.to_clipboard()"
   ]
  },
  {
   "cell_type": "code",
   "execution_count": null,
   "id": "c6746b6d",
   "metadata": {},
   "outputs": [],
   "source": [
    "# customer-frequency and income-range\n",
    "xtab_cstfrqncy_income = pd.crosstab(df_main['customer_frequency_flag'], df_main['profile_income'], dropna = False)"
   ]
  },
  {
   "cell_type": "code",
   "execution_count": null,
   "id": "6df1f4fe",
   "metadata": {},
   "outputs": [],
   "source": [
    "xtab_cstfrqncy_income "
   ]
  },
  {
   "cell_type": "code",
   "execution_count": null,
   "id": "b49cfdb3",
   "metadata": {},
   "outputs": [],
   "source": [
    "xtab_cstfrqncy_income.to_clipboard()"
   ]
  },
  {
   "cell_type": "code",
   "execution_count": null,
   "id": "a083fa3d",
   "metadata": {},
   "outputs": [],
   "source": [
    "# customer-frequency and family-status\n",
    "xtab_cstfrqncy_famstatus = pd.crosstab(df_main['customer_frequency_flag'], df_main['fam_status'], dropna = False)"
   ]
  },
  {
   "cell_type": "code",
   "execution_count": null,
   "id": "5e17aa42",
   "metadata": {},
   "outputs": [],
   "source": [
    "xtab_cstfrqncy_famstatus"
   ]
  },
  {
   "cell_type": "code",
   "execution_count": null,
   "id": "dca0ab84",
   "metadata": {},
   "outputs": [],
   "source": [
    "xtab_cstfrqncy_famstatus.to_clipboard()"
   ]
  },
  {
   "cell_type": "markdown",
   "id": "438cfb3a",
   "metadata": {},
   "source": [
    "Crosstab: spending-type and age/gender/income/fam-status/parental-status "
   ]
  },
  {
   "cell_type": "code",
   "execution_count": null,
   "id": "973a8ec4",
   "metadata": {},
   "outputs": [],
   "source": [
    "# spender-type and age\n",
    "xtab_spndrtype_age = pd.crosstab(df_main['spender_type_flag'], df_main['profile_age'], dropna = False)"
   ]
  },
  {
   "cell_type": "code",
   "execution_count": null,
   "id": "dbfe3aa8",
   "metadata": {},
   "outputs": [],
   "source": [
    "xtab_spndrtype_age"
   ]
  },
  {
   "cell_type": "code",
   "execution_count": null,
   "id": "4368b27c",
   "metadata": {},
   "outputs": [],
   "source": [
    "xtab_spndrtype_age.to_clipboard()"
   ]
  },
  {
   "cell_type": "code",
   "execution_count": null,
   "id": "b6404622",
   "metadata": {},
   "outputs": [],
   "source": [
    "# spender-type and gender\n",
    "xtab_spndrtype_gender = pd.crosstab(df_main['spender_type_flag'], df_main['gender'], dropna = False)"
   ]
  },
  {
   "cell_type": "code",
   "execution_count": null,
   "id": "b7d8bdc9",
   "metadata": {},
   "outputs": [],
   "source": [
    "xtab_spndrtype_gender "
   ]
  },
  {
   "cell_type": "code",
   "execution_count": null,
   "id": "b2407735",
   "metadata": {},
   "outputs": [],
   "source": [
    "xtab_spndrtype_gender.to_clipboard() "
   ]
  },
  {
   "cell_type": "code",
   "execution_count": null,
   "id": "eb65f4b9",
   "metadata": {},
   "outputs": [],
   "source": [
    "# spender-type and income\n",
    "xtab_spndrtype_income = pd.crosstab(df_main['spender_type_flag'], df_main['profile_income'], dropna = False)"
   ]
  },
  {
   "cell_type": "code",
   "execution_count": null,
   "id": "c934f485",
   "metadata": {},
   "outputs": [],
   "source": [
    "xtab_spndrtype_income"
   ]
  },
  {
   "cell_type": "code",
   "execution_count": null,
   "id": "3d30ce72",
   "metadata": {},
   "outputs": [],
   "source": [
    "xtab_spndrtype_income.to_clipboard() "
   ]
  },
  {
   "cell_type": "code",
   "execution_count": null,
   "id": "61236777",
   "metadata": {},
   "outputs": [],
   "source": [
    "# spender-type and family-status\n",
    "xtab_spndrtype_famstatus = pd.crosstab(df_main['spender_type_flag'], df_main['fam_status'], dropna = False)"
   ]
  },
  {
   "cell_type": "code",
   "execution_count": null,
   "id": "dd03d19f",
   "metadata": {},
   "outputs": [],
   "source": [
    "xtab_spndrtype_famstatus"
   ]
  },
  {
   "cell_type": "code",
   "execution_count": null,
   "id": "b25e3118",
   "metadata": {},
   "outputs": [],
   "source": [
    "xtab_spndrtype_famstatus.to_clipboard() "
   ]
  },
  {
   "cell_type": "code",
   "execution_count": null,
   "id": "4a6f43bb",
   "metadata": {},
   "outputs": [],
   "source": [
    "# spender-type and parental-status\n",
    "xtab_spndrtype_parental = pd.crosstab(df_main['spender_type_flag'], df_main['profile_parental'], dropna = False)"
   ]
  },
  {
   "cell_type": "code",
   "execution_count": null,
   "id": "bc81e8c5",
   "metadata": {},
   "outputs": [],
   "source": [
    "xtab_spndrtype_parental"
   ]
  },
  {
   "cell_type": "code",
   "execution_count": null,
   "id": "b97a0b52",
   "metadata": {},
   "outputs": [],
   "source": [
    "xtab_spndrtype_parental.to_clipboard() "
   ]
  },
  {
   "cell_type": "markdown",
   "id": "a32df9c3",
   "metadata": {},
   "source": [
    "Crosstab: order-dow and age/parental-status/fam-status"
   ]
  },
  {
   "cell_type": "code",
   "execution_count": null,
   "id": "d30fb5f7",
   "metadata": {},
   "outputs": [],
   "source": [
    "# order day-of-week and age\n",
    "xtab_dow_age = pd.crosstab(df_main['orders_day_of_week'], df_main['profile_age'])"
   ]
  },
  {
   "cell_type": "code",
   "execution_count": null,
   "id": "13f397f1",
   "metadata": {},
   "outputs": [],
   "source": [
    "xtab_dow_age"
   ]
  },
  {
   "cell_type": "code",
   "execution_count": null,
   "id": "6843cecd",
   "metadata": {},
   "outputs": [],
   "source": [
    "xtab_dow_age.to_clipboard()"
   ]
  },
  {
   "cell_type": "code",
   "execution_count": null,
   "id": "cea6637e",
   "metadata": {},
   "outputs": [],
   "source": [
    "# order day-of-week and parental-status\n",
    "xtab_dow_parental = pd.crosstab(df_main['orders_day_of_week'], df_main['profile_parental'])"
   ]
  },
  {
   "cell_type": "code",
   "execution_count": null,
   "id": "e4cd0601",
   "metadata": {},
   "outputs": [],
   "source": [
    "xtab_dow_parental"
   ]
  },
  {
   "cell_type": "code",
   "execution_count": null,
   "id": "886ceb48",
   "metadata": {},
   "outputs": [],
   "source": [
    "xtab_dow_parental.to_clipboard()"
   ]
  },
  {
   "cell_type": "code",
   "execution_count": null,
   "id": "7b534793",
   "metadata": {},
   "outputs": [],
   "source": [
    "# order day-of-week and family-status\n",
    "xtab_dow_famstatus = pd.crosstab(df_main['orders_day_of_week'], df_main['fam_status'])"
   ]
  },
  {
   "cell_type": "code",
   "execution_count": null,
   "id": "619207c5",
   "metadata": {},
   "outputs": [],
   "source": [
    "xtab_dow_famstatus "
   ]
  },
  {
   "cell_type": "code",
   "execution_count": null,
   "id": "a5c7ec08",
   "metadata": {},
   "outputs": [],
   "source": [
    "xtab_dow_famstatus.to_clipboard()"
   ]
  },
  {
   "cell_type": "markdown",
   "id": "5d0ae1bc",
   "metadata": {},
   "source": [
    "Crosstab: product_id and age/income/fam-status/parent-status/gender"
   ]
  },
  {
   "cell_type": "code",
   "execution_count": null,
   "id": "7e63fd10",
   "metadata": {},
   "outputs": [],
   "source": [
    "# product-id and age-range\n",
    "xtab_prodID_age = pd.crosstab(df_main['product_id'], df_main['profile_age'])"
   ]
  },
  {
   "cell_type": "code",
   "execution_count": null,
   "id": "be298265",
   "metadata": {},
   "outputs": [],
   "source": [
    "xtab_prodID_age"
   ]
  },
  {
   "cell_type": "code",
   "execution_count": null,
   "id": "a747e7db",
   "metadata": {},
   "outputs": [],
   "source": [
    "xtab_prodID_age.to_clipboard()"
   ]
  },
  {
   "cell_type": "code",
   "execution_count": null,
   "id": "f604c339",
   "metadata": {},
   "outputs": [],
   "source": [
    "# product-id and income-range\n",
    "xtab_prodID_income = pd.crosstab(df_main['product_id'], df_main['profile_income'])"
   ]
  },
  {
   "cell_type": "code",
   "execution_count": null,
   "id": "426a55b6",
   "metadata": {},
   "outputs": [],
   "source": [
    "xtab_prodID_income.to_clipboard()"
   ]
  },
  {
   "cell_type": "code",
   "execution_count": null,
   "id": "928fec57",
   "metadata": {},
   "outputs": [],
   "source": [
    "# product-id and family-status\n",
    "xtab_prodID_famstatus = pd.crosstab(df_main['product_id'], df_main['fam_status'])"
   ]
  },
  {
   "cell_type": "code",
   "execution_count": null,
   "id": "b4637b71",
   "metadata": {},
   "outputs": [],
   "source": [
    "xtab_prodID_famstatus.to_clipboard()"
   ]
  },
  {
   "cell_type": "code",
   "execution_count": null,
   "id": "68baba2a",
   "metadata": {},
   "outputs": [],
   "source": [
    "# product-id and parental-status\n",
    "xtab_prodID_parental = pd.crosstab(df_main['product_id'], df_main['profile_parental'])"
   ]
  },
  {
   "cell_type": "code",
   "execution_count": null,
   "id": "5a2f3a67",
   "metadata": {},
   "outputs": [],
   "source": [
    "xtab_prodID_parental.to_clipboard()"
   ]
  },
  {
   "cell_type": "code",
   "execution_count": null,
   "id": "fe499fdd",
   "metadata": {},
   "outputs": [],
   "source": [
    "# product-id and gender\n",
    "xtab_prodID_gender = pd.crosstab(df_main['product_id'], df_main['gender'])"
   ]
  },
  {
   "cell_type": "code",
   "execution_count": null,
   "id": "35855964",
   "metadata": {},
   "outputs": [],
   "source": [
    "xtab_prodID_gender.to_clipboard()"
   ]
  },
  {
   "cell_type": "markdown",
   "id": "59ac1d78",
   "metadata": {},
   "source": [
    "Crosstab: department_id and age/income/fam-status/parent-status/gender"
   ]
  },
  {
   "cell_type": "code",
   "execution_count": null,
   "id": "31ae6072",
   "metadata": {},
   "outputs": [],
   "source": [
    "# department_id and age\n",
    "xtab_dptmt_age = pd.crosstab(df_main['department_id'], df_main['profile_age'], dropna = False)"
   ]
  },
  {
   "cell_type": "code",
   "execution_count": null,
   "id": "bda0bb7a",
   "metadata": {},
   "outputs": [],
   "source": [
    "xtab_dptmt_age"
   ]
  },
  {
   "cell_type": "code",
   "execution_count": null,
   "id": "53da652d",
   "metadata": {},
   "outputs": [],
   "source": [
    "xtab_dptmt_age.to_clipboard()"
   ]
  },
  {
   "cell_type": "code",
   "execution_count": null,
   "id": "96be9179",
   "metadata": {},
   "outputs": [],
   "source": [
    "# department_id and income-range\n",
    "xtab_dptmt_income = pd.crosstab(df_main['department_id'], df_main['profile_income'], dropna = False)"
   ]
  },
  {
   "cell_type": "code",
   "execution_count": null,
   "id": "f6140707",
   "metadata": {},
   "outputs": [],
   "source": [
    "xtab_dptmt_income"
   ]
  },
  {
   "cell_type": "code",
   "execution_count": null,
   "id": "4602d0dc",
   "metadata": {},
   "outputs": [],
   "source": [
    "xtab_dptmt_income.to_clipboard()"
   ]
  },
  {
   "cell_type": "code",
   "execution_count": null,
   "id": "a46006dd",
   "metadata": {},
   "outputs": [],
   "source": [
    "# department_id and family-status\n",
    "xtab_dptmt_famstatus = pd.crosstab(df_main['department_id'], df_main['fam_status'], dropna = False)"
   ]
  },
  {
   "cell_type": "code",
   "execution_count": null,
   "id": "e7582b49",
   "metadata": {},
   "outputs": [],
   "source": [
    "xtab_dptmt_famstatus"
   ]
  },
  {
   "cell_type": "code",
   "execution_count": null,
   "id": "5d2f4705",
   "metadata": {},
   "outputs": [],
   "source": [
    "xtab_dptmt_famstatus.to_clipboard()"
   ]
  },
  {
   "cell_type": "code",
   "execution_count": null,
   "id": "c584b1a4",
   "metadata": {},
   "outputs": [],
   "source": [
    "# department_id and parental-status\n",
    "xtab_dptmt_parental = pd.crosstab(df_main['department_id'], df_main['profile_parental'], dropna = False)"
   ]
  },
  {
   "cell_type": "code",
   "execution_count": null,
   "id": "330d0466",
   "metadata": {},
   "outputs": [],
   "source": [
    "xtab_dptmt_parental"
   ]
  },
  {
   "cell_type": "code",
   "execution_count": null,
   "id": "ca6968bd",
   "metadata": {},
   "outputs": [],
   "source": [
    "xtab_dptmt_parental.to_clipboard()"
   ]
  },
  {
   "cell_type": "code",
   "execution_count": null,
   "id": "19d3948c",
   "metadata": {},
   "outputs": [],
   "source": [
    "# department_id and gender\n",
    "xtab_dptmt_gender = pd.crosstab(df_main['department_id'], df_main['gender'], dropna = False)"
   ]
  },
  {
   "cell_type": "code",
   "execution_count": null,
   "id": "55bed8f6",
   "metadata": {},
   "outputs": [],
   "source": [
    "xtab_dptmt_gender"
   ]
  },
  {
   "cell_type": "code",
   "execution_count": null,
   "id": "35a3d946",
   "metadata": {},
   "outputs": [],
   "source": [
    "xtab_dptmt_gender.to_clipboard()"
   ]
  },
  {
   "cell_type": "markdown",
   "id": "df8f5634",
   "metadata": {},
   "source": [
    "Crosstab: age and income"
   ]
  },
  {
   "cell_type": "code",
   "execution_count": null,
   "id": "2a229a96",
   "metadata": {},
   "outputs": [],
   "source": [
    "xtab_age_income = pd.crosstab(df_main['profile_age'], df_main['profile_income'], dropna = False)"
   ]
  },
  {
   "cell_type": "code",
   "execution_count": null,
   "id": "9c5db54e",
   "metadata": {},
   "outputs": [],
   "source": [
    "xtab_age_income"
   ]
  },
  {
   "cell_type": "code",
   "execution_count": null,
   "id": "f9543274",
   "metadata": {},
   "outputs": [],
   "source": [
    "xtab_age_income.to_clipboard()"
   ]
  },
  {
   "cell_type": "markdown",
   "id": "69887176",
   "metadata": {},
   "source": [
    "Crosstab: region and income"
   ]
  },
  {
   "cell_type": "code",
   "execution_count": null,
   "id": "0c23afae",
   "metadata": {},
   "outputs": [],
   "source": [
    "xtab_region_income = pd.crosstab(df_main['region'], df_main['profile_income'], dropna = False)"
   ]
  },
  {
   "cell_type": "code",
   "execution_count": null,
   "id": "8629a359",
   "metadata": {},
   "outputs": [],
   "source": [
    "xtab_region_income"
   ]
  },
  {
   "cell_type": "code",
   "execution_count": null,
   "id": "c8f294ae",
   "metadata": {},
   "outputs": [],
   "source": [
    "xtab_region_income.to_clipboard()"
   ]
  },
  {
   "cell_type": "markdown",
   "id": "1aa7c948",
   "metadata": {},
   "source": [
    "Exporting main dataframe"
   ]
  },
  {
   "cell_type": "code",
   "execution_count": 57,
   "id": "b0298cbc",
   "metadata": {},
   "outputs": [],
   "source": [
    "df_main.to_pickle(os.path.join(path, '02_Data', 'PreparedData', 'df_main.pkl'))"
   ]
  }
 ],
 "metadata": {
  "kernelspec": {
   "display_name": "Python 3 (ipykernel)",
   "language": "python",
   "name": "python3"
  },
  "language_info": {
   "codemirror_mode": {
    "name": "ipython",
    "version": 3
   },
   "file_extension": ".py",
   "mimetype": "text/x-python",
   "name": "python",
   "nbconvert_exporter": "python",
   "pygments_lexer": "ipython3",
   "version": "3.9.7"
  }
 },
 "nbformat": 4,
 "nbformat_minor": 5
}
