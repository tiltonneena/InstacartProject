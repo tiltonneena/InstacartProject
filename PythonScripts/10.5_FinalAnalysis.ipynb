{
 "cells": [
  {
   "cell_type": "markdown",
   "id": "7abb8c47",
   "metadata": {},
   "source": [
    "# 10.5 Final Analysis"
   ]
  },
  {
   "cell_type": "markdown",
   "id": "f60a9c83",
   "metadata": {},
   "source": [
    "#### Import libraries and dataframe - input 1\n",
    "#### Create function categorizing price ranges - input 6\n",
    "#### Create new column of price-range category - input 7\n",
    "#### Visualization of price-range - input 13\n",
    "#### Ideas for other potential profiling - below input 15\n",
    "#### Export of new dataframe - input 14"
   ]
  },
  {
   "cell_type": "markdown",
   "id": "4e0bb5e3",
   "metadata": {},
   "source": [
    "Import Libraries and Dataframe"
   ]
  },
  {
   "cell_type": "code",
   "execution_count": 1,
   "id": "e3228a51",
   "metadata": {},
   "outputs": [],
   "source": [
    "import pandas as pd\n",
    "import numpy as np\n",
    "import os\n",
    "import matplotlib.pyplot as plt\n",
    "import seaborn as sns\n",
    "import scipy "
   ]
  },
  {
   "cell_type": "code",
   "execution_count": 2,
   "id": "1a810206",
   "metadata": {},
   "outputs": [],
   "source": [
    "path = r'C:\\Users\\Neena Tilton\\Dropbox\\Projects\\01_2020_InstacartBasket'"
   ]
  },
  {
   "cell_type": "code",
   "execution_count": 5,
   "id": "a54b4a27",
   "metadata": {},
   "outputs": [],
   "source": [
    "df_main_dept = pd.read_pickle(os.path.join(path, '02_Data', 'PreparedData', 'df_main_dept.pkl'))"
   ]
  },
  {
   "cell_type": "markdown",
   "id": "95672b34",
   "metadata": {},
   "source": [
    "Creating price-range flag: user-def function using if-stmt"
   ]
  },
  {
   "cell_type": "markdown",
   "id": "4871cd07",
   "metadata": {},
   "source": [
    "Making a user-defined function 'price_label(row)':"
   ]
  },
  {
   "cell_type": "code",
   "execution_count": 6,
   "id": "0c2d62e3",
   "metadata": {},
   "outputs": [],
   "source": [
    "def price_label(row):\n",
    "    \n",
    "    if row['prices'] <= 5:\n",
    "        return 'low-range product'\n",
    "    elif (row['prices'] > 5) & (row['prices'] <= 15):\n",
    "        return 'mid-range product'\n",
    "    elif row['prices'] > 15:\n",
    "        return 'high-range product'\n",
    "    else:\n",
    "        return 'not enough data'"
   ]
  },
  {
   "cell_type": "markdown",
   "id": "87e2cfbc",
   "metadata": {},
   "source": [
    "Applying price range label using new function:"
   ]
  },
  {
   "cell_type": "code",
   "execution_count": 7,
   "id": "f03f82c2",
   "metadata": {},
   "outputs": [],
   "source": [
    "df_main_dept['price_range_flag'] = df_main_dept.apply(price_label, axis = 1)"
   ]
  },
  {
   "cell_type": "code",
   "execution_count": 8,
   "id": "f4076904",
   "metadata": {},
   "outputs": [
    {
     "name": "stdout",
     "output_type": "stream",
     "text": [
      "<class 'pandas.core.frame.DataFrame'>\n",
      "Int64Index: 30964564 entries, 0 to 30964563\n",
      "Data columns (total 39 columns):\n",
      " #   Column                         Dtype   \n",
      "---  ------                         -----   \n",
      " 0   order_id                       int64   \n",
      " 1   user_id                        int64   \n",
      " 2   order_number                   int64   \n",
      " 3   orders_day_of_week             int64   \n",
      " 4   order_time_of_day              int64   \n",
      " 5   days_since_prior_order         float64 \n",
      " 6   product_id                     int64   \n",
      " 7   add_to_cart_order              int64   \n",
      " 8   reordered                      int64   \n",
      " 9   product_name                   object  \n",
      " 10  aisle_id                       int64   \n",
      " 11  department_id                  int64   \n",
      " 12  prices                         float64 \n",
      " 13  busiest_day                    category\n",
      " 14  Busiest_days                   category\n",
      " 15  busiest_period_of_day          category\n",
      " 16  max_order                      int64   \n",
      " 17  loyalty_flag                   category\n",
      " 18  mean_price_of_product          float64 \n",
      " 19  spender_type_flag              category\n",
      " 20  customer_frequency_flag        category\n",
      " 21  median_days_since_prior_order  float64 \n",
      " 22  gender                         category\n",
      " 23  state                          object  \n",
      " 24  age                            int64   \n",
      " 25  date_joined                    object  \n",
      " 26  n_dependants                   int64   \n",
      " 27  fam_status                     category\n",
      " 28  income                         int64   \n",
      " 29  region                         category\n",
      " 30  exclusion_flag                 object  \n",
      " 31  profile_age                    category\n",
      " 32  profile_income                 category\n",
      " 33  profile_parental               category\n",
      " 34  department                     category\n",
      " 35  _merge                         category\n",
      " 36  top_dept                       object  \n",
      " 37  dept_ranking                   object  \n",
      " 38  price_range_flag               object  \n",
      "dtypes: category(14), float64(4), int64(14), object(7)\n",
      "memory usage: 6.4+ GB\n"
     ]
    }
   ],
   "source": [
    "df_main_dept.info()"
   ]
  },
  {
   "cell_type": "code",
   "execution_count": 9,
   "id": "cc82ce58",
   "metadata": {},
   "outputs": [],
   "source": [
    "# Update data type of new column from string to category\n",
    "df_main_dept['price_range_flag'] = df_main_dept['price_range_flag'].astype('category')"
   ]
  },
  {
   "cell_type": "code",
   "execution_count": 10,
   "id": "170dab4f",
   "metadata": {},
   "outputs": [
    {
     "name": "stdout",
     "output_type": "stream",
     "text": [
      "<class 'pandas.core.frame.DataFrame'>\n",
      "Int64Index: 30964564 entries, 0 to 30964563\n",
      "Data columns (total 39 columns):\n",
      " #   Column                         Dtype   \n",
      "---  ------                         -----   \n",
      " 0   order_id                       int64   \n",
      " 1   user_id                        int64   \n",
      " 2   order_number                   int64   \n",
      " 3   orders_day_of_week             int64   \n",
      " 4   order_time_of_day              int64   \n",
      " 5   days_since_prior_order         float64 \n",
      " 6   product_id                     int64   \n",
      " 7   add_to_cart_order              int64   \n",
      " 8   reordered                      int64   \n",
      " 9   product_name                   object  \n",
      " 10  aisle_id                       int64   \n",
      " 11  department_id                  int64   \n",
      " 12  prices                         float64 \n",
      " 13  busiest_day                    category\n",
      " 14  Busiest_days                   category\n",
      " 15  busiest_period_of_day          category\n",
      " 16  max_order                      int64   \n",
      " 17  loyalty_flag                   category\n",
      " 18  mean_price_of_product          float64 \n",
      " 19  spender_type_flag              category\n",
      " 20  customer_frequency_flag        category\n",
      " 21  median_days_since_prior_order  float64 \n",
      " 22  gender                         category\n",
      " 23  state                          object  \n",
      " 24  age                            int64   \n",
      " 25  date_joined                    object  \n",
      " 26  n_dependants                   int64   \n",
      " 27  fam_status                     category\n",
      " 28  income                         int64   \n",
      " 29  region                         category\n",
      " 30  exclusion_flag                 object  \n",
      " 31  profile_age                    category\n",
      " 32  profile_income                 category\n",
      " 33  profile_parental               category\n",
      " 34  department                     category\n",
      " 35  _merge                         category\n",
      " 36  top_dept                       object  \n",
      " 37  dept_ranking                   object  \n",
      " 38  price_range_flag               category\n",
      "dtypes: category(15), float64(4), int64(14), object(6)\n",
      "memory usage: 6.2+ GB\n"
     ]
    }
   ],
   "source": [
    "df_main_dept.info()"
   ]
  },
  {
   "cell_type": "markdown",
   "id": "a8035a89",
   "metadata": {},
   "source": [
    "Visualization of price-range of all products"
   ]
  },
  {
   "cell_type": "code",
   "execution_count": 13,
   "id": "d577944a",
   "metadata": {},
   "outputs": [
    {
     "data": {
      "text/plain": [
       "Text(0, 0.5, ' ')"
      ]
     },
     "execution_count": 13,
     "metadata": {},
     "output_type": "execute_result"
    },
    {
     "data": {
      "image/png": "[encoded data removed]",
      "text/plain": [
       "<Figure size 432x288 with 1 Axes>"
      ]
     },
     "metadata": {},
     "output_type": "display_data"
    }
   ],
   "source": [
    "pie_price_range = df_main_dept['price_range_flag'].value_counts().sort_index().plot.pie(autopct = '%1.1f%%', colors = sns.color_palette('bright', 3))\n",
    "\n",
    "plt.ylabel(' ')"
   ]
  },
  {
   "cell_type": "code",
   "execution_count": 15,
   "id": "e75991ce",
   "metadata": {},
   "outputs": [],
   "source": [
    "# Export viz\n",
    "pie_price_range.figure.savefig(os.path.join(path, '04_Analysis', 'Visualizations', 'pie_price_range.png'))"
   ]
  },
  {
   "cell_type": "markdown",
   "id": "e1c826af",
   "metadata": {},
   "source": [
    "Exporting new dataframe:"
   ]
  },
  {
   "cell_type": "code",
   "execution_count": 14,
   "id": "6e2f21bd",
   "metadata": {},
   "outputs": [],
   "source": [
    "df_main_dept.to_pickle(os.path.join(path, '02_Data', 'PreparedData', 'df_final.pkl'))"
   ]
  }
 ],
 "metadata": {
  "kernelspec": {
   "display_name": "Python 3 (ipykernel)",
   "language": "python",
   "name": "python3"
  },
  "language_info": {
   "codemirror_mode": {
    "name": "ipython",
    "version": 3
   },
   "file_extension": ".py",
   "mimetype": "text/x-python",
   "name": "python",
   "nbconvert_exporter": "python",
   "pygments_lexer": "ipython3",
   "version": "3.9.7"
  }
 },
 "nbformat": 4,
 "nbformat_minor": 5
}
