{
 "cells": [
  {
   "cell_type": "markdown",
   "id": "6aa4d18b",
   "metadata": {},
   "source": [
    "# 10.1 FinalAnalysis"
   ]
  },
  {
   "cell_type": "markdown",
   "id": "3c1ccf7f",
   "metadata": {},
   "source": [
    "Import the data set exported last script."
   ]
  },
  {
   "cell_type": "code",
   "execution_count": 1,
   "id": "318166ed",
   "metadata": {},
   "outputs": [],
   "source": [
    "import pandas as pd\n",
    "import numpy as np\n",
    "import os"
   ]
  },
  {
   "cell_type": "code",
   "execution_count": 2,
   "id": "aaec1fdc",
   "metadata": {},
   "outputs": [],
   "source": [
    "path = path = r'C:\\Users\\Neena Tilton\\Dropbox\\Projects\\01_2020_InstacartBasket'"
   ]
  },
  {
   "cell_type": "code",
   "execution_count": 3,
   "id": "33a17a29",
   "metadata": {},
   "outputs": [],
   "source": [
    "ords_prods_customers = pd.read_pickle(os.path.join(path, '02_Data', 'PreparedData', 'ords_prods_customers.pkl'))"
   ]
  },
  {
   "cell_type": "code",
   "execution_count": 6,
   "id": "24677969",
   "metadata": {},
   "outputs": [
    {
     "name": "stdout",
     "output_type": "stream",
     "text": [
      "<class 'pandas.core.frame.DataFrame'>\n",
      "Int64Index: 32404859 entries, 0 to 32404858\n",
      "Data columns (total 33 columns):\n",
      " #   Column                         Dtype   \n",
      "---  ------                         -----   \n",
      " 0   order_id                       int64   \n",
      " 1   user_id                        int64   \n",
      " 2   order_number                   int64   \n",
      " 3   orders_day_of_week             int64   \n",
      " 4   order_time_of_day              int64   \n",
      " 5   days_since_prior_order         float64 \n",
      " 6   product_id                     int64   \n",
      " 7   add_to_cart_order              int64   \n",
      " 8   reordered                      int64   \n",
      " 9   product_name                   object  \n",
      " 10  aisle_id                       int64   \n",
      " 11  department_id                  int64   \n",
      " 12  prices                         float64 \n",
      " 13  _merge                         category\n",
      " 14  busiest_day                    object  \n",
      " 15  Busiest_days                   object  \n",
      " 16  busiest_period_of_day          object  \n",
      " 17  max order                      int64   \n",
      " 18  max_order                      int64   \n",
      " 19  loyalty_flag                   object  \n",
      " 20  mean_price_of_product          float64 \n",
      " 21  spender_type_flag              object  \n",
      " 22  customer_frequency_flag        object  \n",
      " 23  median_days_since_prior_order  float64 \n",
      " 24  first_name                     object  \n",
      " 25  last_name                      object  \n",
      " 26  gender                         object  \n",
      " 27  state                          object  \n",
      " 28  age                            int64   \n",
      " 29  date_joined                    object  \n",
      " 30  n_dependants                   int64   \n",
      " 31  fam_status                     object  \n",
      " 32  income                         int64   \n",
      "dtypes: category(1), float64(4), int64(15), object(13)\n",
      "memory usage: 8.0+ GB\n"
     ]
    }
   ],
   "source": [
    "ords_prods_customers.info()"
   ]
  },
  {
   "cell_type": "markdown",
   "id": "47c18a38",
   "metadata": {},
   "source": [
    "Considering security implications that might exist for most recent data. The only columns with PII data are 'first_name' and 'last_name'. Since customer names are not needed, creating a new dataframe with the two columns dropped. If we do, in some rare case, need to go back to trace the names of the customers, we will still have customer_id's to do so. "
   ]
  },
  {
   "cell_type": "code",
   "execution_count": 7,
   "id": "eadf7228",
   "metadata": {},
   "outputs": [],
   "source": [
    "df_names_dropped = ords_prods_customers.drop(columns = ['first_name', 'last_name'])"
   ]
  },
  {
   "cell_type": "code",
   "execution_count": 8,
   "id": "2aa96c70",
   "metadata": {},
   "outputs": [
    {
     "name": "stdout",
     "output_type": "stream",
     "text": [
      "<class 'pandas.core.frame.DataFrame'>\n",
      "Int64Index: 32404859 entries, 0 to 32404858\n",
      "Data columns (total 31 columns):\n",
      " #   Column                         Dtype   \n",
      "---  ------                         -----   \n",
      " 0   order_id                       int64   \n",
      " 1   user_id                        int64   \n",
      " 2   order_number                   int64   \n",
      " 3   orders_day_of_week             int64   \n",
      " 4   order_time_of_day              int64   \n",
      " 5   days_since_prior_order         float64 \n",
      " 6   product_id                     int64   \n",
      " 7   add_to_cart_order              int64   \n",
      " 8   reordered                      int64   \n",
      " 9   product_name                   object  \n",
      " 10  aisle_id                       int64   \n",
      " 11  department_id                  int64   \n",
      " 12  prices                         float64 \n",
      " 13  _merge                         category\n",
      " 14  busiest_day                    object  \n",
      " 15  Busiest_days                   object  \n",
      " 16  busiest_period_of_day          object  \n",
      " 17  max order                      int64   \n",
      " 18  max_order                      int64   \n",
      " 19  loyalty_flag                   object  \n",
      " 20  mean_price_of_product          float64 \n",
      " 21  spender_type_flag              object  \n",
      " 22  customer_frequency_flag        object  \n",
      " 23  median_days_since_prior_order  float64 \n",
      " 24  gender                         object  \n",
      " 25  state                          object  \n",
      " 26  age                            int64   \n",
      " 27  date_joined                    object  \n",
      " 28  n_dependants                   int64   \n",
      " 29  fam_status                     object  \n",
      " 30  income                         int64   \n",
      "dtypes: category(1), float64(4), int64(15), object(11)\n",
      "memory usage: 7.5+ GB\n"
     ]
    }
   ],
   "source": [
    "df_names_dropped.info()"
   ]
  },
  {
   "cell_type": "markdown",
   "id": "5f94fc33",
   "metadata": {},
   "source": [
    "To investigate into customer behavior in different geographic areas, creating a regional segmentation of the data and categorized into 'region' in new column based on the 'state' column from your customers data set. "
   ]
  },
  {
   "cell_type": "code",
   "execution_count": 10,
   "id": "cb311a51",
   "metadata": {},
   "outputs": [],
   "source": [
    "# Creating lists for each region\n",
    "Northeast_states = ['Maine', 'New Hamphire', 'Vermont', 'Massachusetts', 'Rhode Island', 'Connecticut', \n",
    "                    'New York', 'Pennsylvania', 'New Jersey']"
   ]
  },
  {
   "cell_type": "code",
   "execution_count": 11,
   "id": "6f2e42ca",
   "metadata": {},
   "outputs": [],
   "source": [
    "Midwest_states = ['Wisconsin', 'Michigan', 'Illinois', 'Indiana', 'Ohio', 'North Dakota', 'South Dakota', 'Nebraska', 'Kansas', \n",
    "                  'Minnesota', 'Iowa', 'Missouri']"
   ]
  },
  {
   "cell_type": "code",
   "execution_count": 12,
   "id": "3bd6f2b2",
   "metadata": {},
   "outputs": [],
   "source": [
    "South_states = ['Delaware', 'Maryland', 'District of Columbia', 'Virginia', 'West Virginia', 'North Carolina', 'South Carolina',\n",
    "                'Georgia', 'Florida', 'Kentucky', 'Tennessee', 'Mississippi', 'Alabama', 'Oklahoma', 'Texas', 'Arkansas', \n",
    "                'Louisiana']"
   ]
  },
  {
   "cell_type": "code",
   "execution_count": 13,
   "id": "36ef3db7",
   "metadata": {},
   "outputs": [],
   "source": [
    "West_states = ['Idaho', 'Montana', 'Wyoming', 'Nevada', 'Utah', 'Colorado', 'Arizona', 'New Mexico', 'Alaska', 'Washington',\n",
    "               'Oregon', 'California', 'Hawaii']"
   ]
  },
  {
   "cell_type": "code",
   "execution_count": 16,
   "id": "8b7df0fb",
   "metadata": {},
   "outputs": [],
   "source": [
    "# Assign regional names as enteries in new column named 'region'\n",
    "df_names_dropped.loc[df_names_dropped['state'].isin(West_states), 'region'] = 'West'"
   ]
  },
  {
   "cell_type": "code",
   "execution_count": 17,
   "id": "8bae73b1",
   "metadata": {},
   "outputs": [],
   "source": [
    "df_names_dropped.loc[df_names_dropped['state'].isin(South_states), 'region'] = 'South'"
   ]
  },
  {
   "cell_type": "code",
   "execution_count": 18,
   "id": "ce76a9ce",
   "metadata": {},
   "outputs": [],
   "source": [
    "df_names_dropped.loc[df_names_dropped['state'].isin(Midwest_states), 'region'] = 'Midwest'"
   ]
  },
  {
   "cell_type": "code",
   "execution_count": 19,
   "id": "358106f4",
   "metadata": {},
   "outputs": [],
   "source": [
    "df_names_dropped.loc[df_names_dropped['state'].isin(Northeast_states), 'region'] = 'Northeast'"
   ]
  },
  {
   "cell_type": "code",
   "execution_count": 20,
   "id": "a7eecec7",
   "metadata": {},
   "outputs": [
    {
     "data": {
      "text/plain": [
       "South        10791885\n",
       "West          8292913\n",
       "Midwest       7597325\n",
       "Northeast     5107358\n",
       "NaN            615378\n",
       "Name: region, dtype: int64"
      ]
     },
     "execution_count": 20,
     "metadata": {},
     "output_type": "execute_result"
    }
   ],
   "source": [
    "df_names_dropped['region'].value_counts(dropna = False)"
   ]
  },
  {
   "cell_type": "code",
   "execution_count": 21,
   "id": "f7a33604",
   "metadata": {},
   "outputs": [],
   "source": [
    "# There are some entries with no region name assigned. To address this, making a subset with NaN in the 'region' column\n",
    "region_NaN_df = df_names_dropped[df_names_dropped['region'].isnull() == True]"
   ]
  },
  {
   "cell_type": "code",
   "execution_count": 23,
   "id": "95250787",
   "metadata": {},
   "outputs": [
    {
     "data": {
      "text/html": [
       "<div>\n",
       "<style scoped>\n",
       "    .dataframe tbody tr th:only-of-type {\n",
       "        vertical-align: middle;\n",
       "    }\n",
       "\n",
       "    .dataframe tbody tr th {\n",
       "        vertical-align: top;\n",
       "    }\n",
       "\n",
       "    .dataframe thead th {\n",
       "        text-align: right;\n",
       "    }\n",
       "</style>\n",
       "<table border=\"1\" class=\"dataframe\">\n",
       "  <thead>\n",
       "    <tr style=\"text-align: right;\">\n",
       "      <th></th>\n",
       "      <th>state</th>\n",
       "      <th>region</th>\n",
       "    </tr>\n",
       "  </thead>\n",
       "  <tbody>\n",
       "    <tr>\n",
       "      <th>17560</th>\n",
       "      <td>New Hampshire</td>\n",
       "      <td>NaN</td>\n",
       "    </tr>\n",
       "    <tr>\n",
       "      <th>17561</th>\n",
       "      <td>New Hampshire</td>\n",
       "      <td>NaN</td>\n",
       "    </tr>\n",
       "    <tr>\n",
       "      <th>17562</th>\n",
       "      <td>New Hampshire</td>\n",
       "      <td>NaN</td>\n",
       "    </tr>\n",
       "    <tr>\n",
       "      <th>17563</th>\n",
       "      <td>New Hampshire</td>\n",
       "      <td>NaN</td>\n",
       "    </tr>\n",
       "    <tr>\n",
       "      <th>17564</th>\n",
       "      <td>New Hampshire</td>\n",
       "      <td>NaN</td>\n",
       "    </tr>\n",
       "    <tr>\n",
       "      <th>...</th>\n",
       "      <td>...</td>\n",
       "      <td>...</td>\n",
       "    </tr>\n",
       "    <tr>\n",
       "      <th>20447</th>\n",
       "      <td>New Hampshire</td>\n",
       "      <td>NaN</td>\n",
       "    </tr>\n",
       "    <tr>\n",
       "      <th>20448</th>\n",
       "      <td>New Hampshire</td>\n",
       "      <td>NaN</td>\n",
       "    </tr>\n",
       "    <tr>\n",
       "      <th>20449</th>\n",
       "      <td>New Hampshire</td>\n",
       "      <td>NaN</td>\n",
       "    </tr>\n",
       "    <tr>\n",
       "      <th>20450</th>\n",
       "      <td>New Hampshire</td>\n",
       "      <td>NaN</td>\n",
       "    </tr>\n",
       "    <tr>\n",
       "      <th>20451</th>\n",
       "      <td>New Hampshire</td>\n",
       "      <td>NaN</td>\n",
       "    </tr>\n",
       "  </tbody>\n",
       "</table>\n",
       "<p>100 rows × 2 columns</p>\n",
       "</div>"
      ],
      "text/plain": [
       "               state region\n",
       "17560  New Hampshire    NaN\n",
       "17561  New Hampshire    NaN\n",
       "17562  New Hampshire    NaN\n",
       "17563  New Hampshire    NaN\n",
       "17564  New Hampshire    NaN\n",
       "...              ...    ...\n",
       "20447  New Hampshire    NaN\n",
       "20448  New Hampshire    NaN\n",
       "20449  New Hampshire    NaN\n",
       "20450  New Hampshire    NaN\n",
       "20451  New Hampshire    NaN\n",
       "\n",
       "[100 rows x 2 columns]"
      ]
     },
     "execution_count": 23,
     "metadata": {},
     "output_type": "execute_result"
    }
   ],
   "source": [
    "region_NaN_df[['state', 'region']].head(100)"
   ]
  },
  {
   "cell_type": "code",
   "execution_count": 24,
   "id": "14de5759",
   "metadata": {},
   "outputs": [
    {
     "data": {
      "text/plain": [
       "New Hampshire    615378\n",
       "Name: state, dtype: int64"
      ]
     },
     "execution_count": 24,
     "metadata": {},
     "output_type": "execute_result"
    }
   ],
   "source": [
    "# To see if New Hampshire is the only state in this subset dataframe with NaN assigned in 'region' column, using value count.\n",
    "region_NaN_df['state'].value_counts(dropna = False)"
   ]
  },
  {
   "cell_type": "code",
   "execution_count": 26,
   "id": "a9938fe0",
   "metadata": {},
   "outputs": [],
   "source": [
    "# This confirms that there is a problem with the 'New Hampshire' spelling in the original list named Northeast_states.\n",
    "# Originally it was misspelled as 'New Hamphire', fixing the spelling now.\n",
    "Northeast_states = ['Maine', 'New Hampshire', 'Vermont', 'Massachusetts', 'Rhode Island', 'Connecticut', \n",
    "                    'New York', 'Pennsylvania', 'New Jersey']"
   ]
  },
  {
   "cell_type": "code",
   "execution_count": 27,
   "id": "b9f7338b",
   "metadata": {},
   "outputs": [],
   "source": [
    "# Running loc() function again for Northeast region\n",
    "df_names_dropped.loc[df_names_dropped['state'].isin(Northeast_states), 'region'] = 'Northeast'"
   ]
  },
  {
   "cell_type": "code",
   "execution_count": 28,
   "id": "be25f7e5",
   "metadata": {},
   "outputs": [
    {
     "data": {
      "text/plain": [
       "South        10791885\n",
       "West          8292913\n",
       "Midwest       7597325\n",
       "Northeast     5722736\n",
       "Name: region, dtype: int64"
      ]
     },
     "execution_count": 28,
     "metadata": {},
     "output_type": "execute_result"
    }
   ],
   "source": [
    "# Checking once again if any missing values in 'region' column\n",
    "df_names_dropped['region'].value_counts(dropna = False)"
   ]
  },
  {
   "cell_type": "code",
   "execution_count": null,
   "id": "8817aa43",
   "metadata": {},
   "outputs": [],
   "source": [
    "# New 'region' column has been successfully created."
   ]
  },
  {
   "cell_type": "markdown",
   "id": "fe36ba62",
   "metadata": {},
   "source": [
    "To determine whether there's a difference in spending habits between the different regions, creating crosstabs of the variables 'region' and 'spending flag' columns. "
   ]
  },
  {
   "cell_type": "code",
   "execution_count": 57,
   "id": "532e9f47",
   "metadata": {},
   "outputs": [],
   "source": [
    "crosstab = pd.crosstab(df_names_dropped['region'], df_names_dropped['spender_type_flag'], dropna = False)"
   ]
  },
  {
   "cell_type": "code",
   "execution_count": 58,
   "id": "2172820f",
   "metadata": {},
   "outputs": [
    {
     "data": {
      "text/html": [
       "<div>\n",
       "<style scoped>\n",
       "    .dataframe tbody tr th:only-of-type {\n",
       "        vertical-align: middle;\n",
       "    }\n",
       "\n",
       "    .dataframe tbody tr th {\n",
       "        vertical-align: top;\n",
       "    }\n",
       "\n",
       "    .dataframe thead th {\n",
       "        text-align: right;\n",
       "    }\n",
       "</style>\n",
       "<table border=\"1\" class=\"dataframe\">\n",
       "  <thead>\n",
       "    <tr style=\"text-align: right;\">\n",
       "      <th>spender_type_flag</th>\n",
       "      <th>High spender</th>\n",
       "      <th>Low spender</th>\n",
       "    </tr>\n",
       "    <tr>\n",
       "      <th>region</th>\n",
       "      <th></th>\n",
       "      <th></th>\n",
       "    </tr>\n",
       "  </thead>\n",
       "  <tbody>\n",
       "    <tr>\n",
       "      <th>Midwest</th>\n",
       "      <td>155975</td>\n",
       "      <td>7441350</td>\n",
       "    </tr>\n",
       "    <tr>\n",
       "      <th>Northeast</th>\n",
       "      <td>108225</td>\n",
       "      <td>5614511</td>\n",
       "    </tr>\n",
       "    <tr>\n",
       "      <th>South</th>\n",
       "      <td>209691</td>\n",
       "      <td>10582194</td>\n",
       "    </tr>\n",
       "    <tr>\n",
       "      <th>West</th>\n",
       "      <td>160354</td>\n",
       "      <td>8132559</td>\n",
       "    </tr>\n",
       "  </tbody>\n",
       "</table>\n",
       "</div>"
      ],
      "text/plain": [
       "spender_type_flag  High spender  Low spender\n",
       "region                                      \n",
       "Midwest                  155975      7441350\n",
       "Northeast                108225      5614511\n",
       "South                    209691     10582194\n",
       "West                     160354      8132559"
      ]
     },
     "execution_count": 58,
     "metadata": {},
     "output_type": "execute_result"
    }
   ],
   "source": [
    "crosstab"
   ]
  },
  {
   "cell_type": "code",
   "execution_count": 52,
   "id": "e5e1b7e6",
   "metadata": {},
   "outputs": [],
   "source": [
    "# NOTE: The numbers above are NOT YET separated nor grouped by user_id, so how many of each kind of spender is inaccurate since \n",
    "# every row is by order_id, which is each product purchased. "
   ]
  },
  {
   "cell_type": "markdown",
   "id": "2d4b6851",
   "metadata": {},
   "source": [
    "Percent of transactions made by high spenders in each region:"
   ]
  },
  {
   "cell_type": "code",
   "execution_count": 59,
   "id": "66aafffc",
   "metadata": {},
   "outputs": [],
   "source": [
    "mw_percent = 155975/(7441350+155975)"
   ]
  },
  {
   "cell_type": "code",
   "execution_count": 60,
   "id": "4ae00198",
   "metadata": {},
   "outputs": [
    {
     "name": "stdout",
     "output_type": "stream",
     "text": [
      "0.020530252424373053\n"
     ]
    }
   ],
   "source": [
    "print(mw_percent)"
   ]
  },
  {
   "cell_type": "markdown",
   "id": "b4c14ddf",
   "metadata": {},
   "source": [
    "Midwest: 2.05%"
   ]
  },
  {
   "cell_type": "code",
   "execution_count": 61,
   "id": "fd4e47f1",
   "metadata": {},
   "outputs": [],
   "source": [
    "ne_percent = 108225/(108225+5614511)"
   ]
  },
  {
   "cell_type": "code",
   "execution_count": 62,
   "id": "30773ea6",
   "metadata": {},
   "outputs": [
    {
     "name": "stdout",
     "output_type": "stream",
     "text": [
      "0.018911408808653763\n"
     ]
    }
   ],
   "source": [
    "print(ne_percent)"
   ]
  },
  {
   "cell_type": "markdown",
   "id": "cea824b8",
   "metadata": {},
   "source": [
    "Northeast: 1.89%"
   ]
  },
  {
   "cell_type": "code",
   "execution_count": 63,
   "id": "691aa866",
   "metadata": {},
   "outputs": [],
   "source": [
    "s_percent = 209691/(209691+10582194)"
   ]
  },
  {
   "cell_type": "code",
   "execution_count": 64,
   "id": "c44a9ee7",
   "metadata": {},
   "outputs": [
    {
     "name": "stdout",
     "output_type": "stream",
     "text": [
      "0.019430433144904714\n"
     ]
    }
   ],
   "source": [
    "print(s_percent)"
   ]
  },
  {
   "cell_type": "markdown",
   "id": "11606517",
   "metadata": {},
   "source": [
    "South: 1.94%"
   ]
  },
  {
   "cell_type": "code",
   "execution_count": 65,
   "id": "267b75ee",
   "metadata": {},
   "outputs": [],
   "source": [
    "w_percent = 160354/(160354+8132559)"
   ]
  },
  {
   "cell_type": "code",
   "execution_count": 66,
   "id": "5b2eceb7",
   "metadata": {},
   "outputs": [
    {
     "name": "stdout",
     "output_type": "stream",
     "text": [
      "0.019336269414619446\n"
     ]
    }
   ],
   "source": [
    "print(w_percent)"
   ]
  },
  {
   "cell_type": "markdown",
   "id": "dd11b9ee",
   "metadata": {},
   "source": [
    "West: 1.93%"
   ]
  },
  {
   "cell_type": "markdown",
   "id": "db538fbc",
   "metadata": {},
   "source": [
    "The difference of spending habits between the regions is very small. Of the four regions, the Midwest had the highest proportion of transactions made by customers that categorized as 'High spenders.'"
   ]
  },
  {
   "cell_type": "markdown",
   "id": "beff1fb9",
   "metadata": {},
   "source": [
    "We want to only focus on customers who generate regular revenue for the app. Creating an exclusion flag for low-activity customers with less than 5 orders, and excluding them from the dataset. "
   ]
  },
  {
   "cell_type": "code",
   "execution_count": 70,
   "id": "5ee06923",
   "metadata": {},
   "outputs": [],
   "source": [
    "# We already have the column 'max_orders' showing the maximum order made by the user. With this, making a exclusion flag. \n",
    "df_names_dropped.loc[df_names_dropped['max_order'] < 5, 'exclusion_flag'] = 'Low Activity Customer'"
   ]
  },
  {
   "cell_type": "code",
   "execution_count": 71,
   "id": "a9577b9a",
   "metadata": {},
   "outputs": [],
   "source": [
    "df_names_dropped.loc[df_names_dropped['max_order'] >= 5, 'exclusion_flag'] = 'Regular Activity Customer'"
   ]
  },
  {
   "cell_type": "code",
   "execution_count": 72,
   "id": "a825f4d7",
   "metadata": {},
   "outputs": [
    {
     "data": {
      "text/plain": [
       "Regular Activity Customer    30964564\n",
       "Low Activity Customer         1440295\n",
       "Name: exclusion_flag, dtype: int64"
      ]
     },
     "execution_count": 72,
     "metadata": {},
     "output_type": "execute_result"
    }
   ],
   "source": [
    "df_names_dropped['exclusion_flag'].value_counts(dropna = False)"
   ]
  },
  {
   "cell_type": "code",
   "execution_count": 73,
   "id": "10a27b8d",
   "metadata": {},
   "outputs": [],
   "source": [
    "# Creating a new dataframe with low-activity customers excluded\n",
    "df_regular_activity = df_names_dropped[df_names_dropped['exclusion_flag'] == 'Regular Activity Customer']"
   ]
  },
  {
   "cell_type": "code",
   "execution_count": 74,
   "id": "f430e0c9",
   "metadata": {},
   "outputs": [
    {
     "data": {
      "text/plain": [
       "Regular Activity Customer    30964564\n",
       "Name: exclusion_flag, dtype: int64"
      ]
     },
     "execution_count": 74,
     "metadata": {},
     "output_type": "execute_result"
    }
   ],
   "source": [
    "# Checking to see if new dataframe only includes 'Regular Activity Customer'\n",
    "df_regular_activity['exclusion_flag'].value_counts(dropna = False)"
   ]
  },
  {
   "cell_type": "code",
   "execution_count": 75,
   "id": "15258b91",
   "metadata": {},
   "outputs": [],
   "source": [
    "# Exporting this dataframe\n",
    "df_regular_activity.to_pickle(os.path.join(path, '02_Data', 'PreparedData', 'reg_act_customers.pkl'))"
   ]
  }
 ],
 "metadata": {
  "kernelspec": {
   "display_name": "Python 3 (ipykernel)",
   "language": "python",
   "name": "python3"
  },
  "language_info": {
   "codemirror_mode": {
    "name": "ipython",
    "version": 3
   },
   "file_extension": ".py",
   "mimetype": "text/x-python",
   "name": "python",
   "nbconvert_exporter": "python",
   "pygments_lexer": "ipython3",
   "version": "3.9.7"
  }
 },
 "nbformat": 4,
 "nbformat_minor": 5
}
