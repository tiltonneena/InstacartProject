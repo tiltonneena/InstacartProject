{
 "cells": [
  {
   "cell_type": "markdown",
   "id": "71c8f854",
   "metadata": {},
   "source": [
    "# 8. Data Visualization"
   ]
  },
  {
   "cell_type": "markdown",
   "id": "1983e911",
   "metadata": {},
   "source": [
    "#### Importing libraries and dataframe\n",
    "#### Histogram of the \"order_time_of_day\"\n",
    "#### Bar chart of \"loyalty_flag\"\n",
    "#### Line chart of 'prices' by 'order_time_of_day'\n",
    "#### Line chart of 'age' and 'n_dependants'\n",
    "#### Scatterplot of 'age' and 'mean_price_of_product' "
   ]
  },
  {
   "cell_type": "markdown",
   "id": "82692694",
   "metadata": {},
   "source": [
    "Importing libraries and dataframe:"
   ]
  },
  {
   "cell_type": "code",
   "execution_count": 1,
   "id": "ccac61d0",
   "metadata": {},
   "outputs": [],
   "source": [
    "import pandas as pd\n",
    "import numpy as np\n",
    "import os\n",
    "import matplotlib.pyplot as plt\n",
    "import seaborn as sns\n",
    "import scipy"
   ]
  },
  {
   "cell_type": "code",
   "execution_count": 2,
   "id": "70a50310",
   "metadata": {},
   "outputs": [],
   "source": [
    "path = r'C:\\Users\\Neena Tilton\\Dropbox\\Projects\\01_2020_InstacartBasket'"
   ]
  },
  {
   "cell_type": "code",
   "execution_count": 3,
   "id": "77afa472",
   "metadata": {},
   "outputs": [],
   "source": [
    "ords_prods_customers = pd.read_pickle(os.path.join(path, '02_Data', 'PreparedData', 'ords_prods_customers.pkl'))"
   ]
  },
  {
   "cell_type": "code",
   "execution_count": 5,
   "id": "6f60f78c",
   "metadata": {},
   "outputs": [
    {
     "data": {
      "text/html": [
       "<div>\n",
       "<style scoped>\n",
       "    .dataframe tbody tr th:only-of-type {\n",
       "        vertical-align: middle;\n",
       "    }\n",
       "\n",
       "    .dataframe tbody tr th {\n",
       "        vertical-align: top;\n",
       "    }\n",
       "\n",
       "    .dataframe thead th {\n",
       "        text-align: right;\n",
       "    }\n",
       "</style>\n",
       "<table border=\"1\" class=\"dataframe\">\n",
       "  <thead>\n",
       "    <tr style=\"text-align: right;\">\n",
       "      <th></th>\n",
       "      <th>order_id</th>\n",
       "      <th>user_id</th>\n",
       "      <th>order_number</th>\n",
       "      <th>orders_day_of_week</th>\n",
       "      <th>order_time_of_day</th>\n",
       "      <th>days_since_prior_order</th>\n",
       "      <th>product_id</th>\n",
       "      <th>add_to_cart_order</th>\n",
       "      <th>reordered</th>\n",
       "      <th>product_name</th>\n",
       "      <th>...</th>\n",
       "      <th>median_days_since_prior_order</th>\n",
       "      <th>first_name</th>\n",
       "      <th>last_name</th>\n",
       "      <th>gender</th>\n",
       "      <th>state</th>\n",
       "      <th>age</th>\n",
       "      <th>date_joined</th>\n",
       "      <th>n_dependants</th>\n",
       "      <th>fam_status</th>\n",
       "      <th>income</th>\n",
       "    </tr>\n",
       "  </thead>\n",
       "  <tbody>\n",
       "    <tr>\n",
       "      <th>0</th>\n",
       "      <td>2539329</td>\n",
       "      <td>1</td>\n",
       "      <td>1</td>\n",
       "      <td>2</td>\n",
       "      <td>8</td>\n",
       "      <td>NaN</td>\n",
       "      <td>196</td>\n",
       "      <td>1</td>\n",
       "      <td>0</td>\n",
       "      <td>Soda</td>\n",
       "      <td>...</td>\n",
       "      <td>20.5</td>\n",
       "      <td>Linda</td>\n",
       "      <td>Nguyen</td>\n",
       "      <td>Female</td>\n",
       "      <td>Alabama</td>\n",
       "      <td>31</td>\n",
       "      <td>2/17/2019</td>\n",
       "      <td>3</td>\n",
       "      <td>married</td>\n",
       "      <td>40423</td>\n",
       "    </tr>\n",
       "    <tr>\n",
       "      <th>1</th>\n",
       "      <td>2398795</td>\n",
       "      <td>1</td>\n",
       "      <td>2</td>\n",
       "      <td>3</td>\n",
       "      <td>7</td>\n",
       "      <td>15.0</td>\n",
       "      <td>196</td>\n",
       "      <td>1</td>\n",
       "      <td>1</td>\n",
       "      <td>Soda</td>\n",
       "      <td>...</td>\n",
       "      <td>20.5</td>\n",
       "      <td>Linda</td>\n",
       "      <td>Nguyen</td>\n",
       "      <td>Female</td>\n",
       "      <td>Alabama</td>\n",
       "      <td>31</td>\n",
       "      <td>2/17/2019</td>\n",
       "      <td>3</td>\n",
       "      <td>married</td>\n",
       "      <td>40423</td>\n",
       "    </tr>\n",
       "    <tr>\n",
       "      <th>2</th>\n",
       "      <td>473747</td>\n",
       "      <td>1</td>\n",
       "      <td>3</td>\n",
       "      <td>3</td>\n",
       "      <td>12</td>\n",
       "      <td>21.0</td>\n",
       "      <td>196</td>\n",
       "      <td>1</td>\n",
       "      <td>1</td>\n",
       "      <td>Soda</td>\n",
       "      <td>...</td>\n",
       "      <td>20.5</td>\n",
       "      <td>Linda</td>\n",
       "      <td>Nguyen</td>\n",
       "      <td>Female</td>\n",
       "      <td>Alabama</td>\n",
       "      <td>31</td>\n",
       "      <td>2/17/2019</td>\n",
       "      <td>3</td>\n",
       "      <td>married</td>\n",
       "      <td>40423</td>\n",
       "    </tr>\n",
       "    <tr>\n",
       "      <th>3</th>\n",
       "      <td>2254736</td>\n",
       "      <td>1</td>\n",
       "      <td>4</td>\n",
       "      <td>4</td>\n",
       "      <td>7</td>\n",
       "      <td>29.0</td>\n",
       "      <td>196</td>\n",
       "      <td>1</td>\n",
       "      <td>1</td>\n",
       "      <td>Soda</td>\n",
       "      <td>...</td>\n",
       "      <td>20.5</td>\n",
       "      <td>Linda</td>\n",
       "      <td>Nguyen</td>\n",
       "      <td>Female</td>\n",
       "      <td>Alabama</td>\n",
       "      <td>31</td>\n",
       "      <td>2/17/2019</td>\n",
       "      <td>3</td>\n",
       "      <td>married</td>\n",
       "      <td>40423</td>\n",
       "    </tr>\n",
       "    <tr>\n",
       "      <th>4</th>\n",
       "      <td>431534</td>\n",
       "      <td>1</td>\n",
       "      <td>5</td>\n",
       "      <td>4</td>\n",
       "      <td>15</td>\n",
       "      <td>28.0</td>\n",
       "      <td>196</td>\n",
       "      <td>1</td>\n",
       "      <td>1</td>\n",
       "      <td>Soda</td>\n",
       "      <td>...</td>\n",
       "      <td>20.5</td>\n",
       "      <td>Linda</td>\n",
       "      <td>Nguyen</td>\n",
       "      <td>Female</td>\n",
       "      <td>Alabama</td>\n",
       "      <td>31</td>\n",
       "      <td>2/17/2019</td>\n",
       "      <td>3</td>\n",
       "      <td>married</td>\n",
       "      <td>40423</td>\n",
       "    </tr>\n",
       "  </tbody>\n",
       "</table>\n",
       "<p>5 rows × 33 columns</p>\n",
       "</div>"
      ],
      "text/plain": [
       "   order_id  user_id  order_number  orders_day_of_week  order_time_of_day  \\\n",
       "0   2539329        1             1                   2                  8   \n",
       "1   2398795        1             2                   3                  7   \n",
       "2    473747        1             3                   3                 12   \n",
       "3   2254736        1             4                   4                  7   \n",
       "4    431534        1             5                   4                 15   \n",
       "\n",
       "   days_since_prior_order  product_id  add_to_cart_order  reordered  \\\n",
       "0                     NaN         196                  1          0   \n",
       "1                    15.0         196                  1          1   \n",
       "2                    21.0         196                  1          1   \n",
       "3                    29.0         196                  1          1   \n",
       "4                    28.0         196                  1          1   \n",
       "\n",
       "  product_name  ...  median_days_since_prior_order  first_name  last_name  \\\n",
       "0         Soda  ...                           20.5       Linda     Nguyen   \n",
       "1         Soda  ...                           20.5       Linda     Nguyen   \n",
       "2         Soda  ...                           20.5       Linda     Nguyen   \n",
       "3         Soda  ...                           20.5       Linda     Nguyen   \n",
       "4         Soda  ...                           20.5       Linda     Nguyen   \n",
       "\n",
       "   gender    state age date_joined  n_dependants  fam_status income  \n",
       "0  Female  Alabama  31   2/17/2019             3     married  40423  \n",
       "1  Female  Alabama  31   2/17/2019             3     married  40423  \n",
       "2  Female  Alabama  31   2/17/2019             3     married  40423  \n",
       "3  Female  Alabama  31   2/17/2019             3     married  40423  \n",
       "4  Female  Alabama  31   2/17/2019             3     married  40423  \n",
       "\n",
       "[5 rows x 33 columns]"
      ]
     },
     "execution_count": 5,
     "metadata": {},
     "output_type": "execute_result"
    }
   ],
   "source": [
    "ords_prods_customers.head()"
   ]
  },
  {
   "cell_type": "markdown",
   "id": "aaa9979b",
   "metadata": {},
   "source": [
    "Creating a histogram of the \"order_time_of_day\" column:"
   ]
  },
  {
   "cell_type": "code",
   "execution_count": 21,
   "id": "1d5b11a2",
   "metadata": {
    "scrolled": true
   },
   "outputs": [
    {
     "data": {
      "image/png": "[encoded data removed]",
      "text/plain": [
       "<Figure size 432x288 with 1 Axes>"
      ]
     },
     "metadata": {
      "needs_background": "light"
     },
     "output_type": "display_data"
    }
   ],
   "source": [
    "ords_hour_hist = ords_prods_customers['order_time_of_day'].value_counts().sort_index().plot.bar()"
   ]
  },
  {
   "cell_type": "markdown",
   "id": "18c6583e",
   "metadata": {},
   "source": [
    "This histogram shows that orders are slow during the hours of 12am - 7am, the picks up around 8am, peaking between 9am-12pm, and finally starts to slow down after 5pm. "
   ]
  },
  {
   "cell_type": "markdown",
   "id": "02cca2e2",
   "metadata": {},
   "source": [
    "Creating a bar chart from the \"loyalty_flag\" column to show the distribution of orders among customers in terms of loyalty:"
   ]
  },
  {
   "cell_type": "code",
   "execution_count": 22,
   "id": "c44219ee",
   "metadata": {},
   "outputs": [
    {
     "data": {
      "image/png": "[encoded data removed]",
      "text/plain": [
       "<Figure size 432x288 with 1 Axes>"
      ]
     },
     "metadata": {
      "needs_background": "light"
     },
     "output_type": "display_data"
    }
   ],
   "source": [
    "loyalty_hist = ords_prods_customers['loyalty_flag'].value_counts().plot.bar()"
   ]
  },
  {
   "cell_type": "markdown",
   "id": "5c110e13",
   "metadata": {},
   "source": [
    "This simple histogram shows that most customers are 'Regular customers', and a good portion of the customer base are 'Loyal customers'. "
   ]
  },
  {
   "cell_type": "markdown",
   "id": "89dfcd6f",
   "metadata": {},
   "source": [
    "Finding if there is any difference in expenditure (the 'prices' column) depending on the hour of the day:"
   ]
  },
  {
   "cell_type": "code",
   "execution_count": 9,
   "id": "c3f1707e",
   "metadata": {},
   "outputs": [],
   "source": [
    "np.random.seed(4)\n",
    "\n",
    "dev = np.random.rand(len(ords_prods_customers)) <= 0.7"
   ]
  },
  {
   "cell_type": "code",
   "execution_count": 10,
   "id": "94fbfa6e",
   "metadata": {},
   "outputs": [],
   "source": [
    "big = ords_prods_customers[dev]"
   ]
  },
  {
   "cell_type": "code",
   "execution_count": 11,
   "id": "4e6b33e9",
   "metadata": {},
   "outputs": [],
   "source": [
    "small = ords_prods_customers[~dev]"
   ]
  },
  {
   "cell_type": "code",
   "execution_count": 12,
   "id": "03a1cf8a",
   "metadata": {},
   "outputs": [
    {
     "data": {
      "text/plain": [
       "32404859"
      ]
     },
     "execution_count": 12,
     "metadata": {},
     "output_type": "execute_result"
    }
   ],
   "source": [
    "len(ords_prods_customers)"
   ]
  },
  {
   "cell_type": "code",
   "execution_count": 13,
   "id": "e1a18825",
   "metadata": {},
   "outputs": [
    {
     "data": {
      "text/plain": [
       "32404859"
      ]
     },
     "execution_count": 13,
     "metadata": {},
     "output_type": "execute_result"
    }
   ],
   "source": [
    "len(big) + len(small)"
   ]
  },
  {
   "cell_type": "code",
   "execution_count": 15,
   "id": "24bcc815",
   "metadata": {},
   "outputs": [],
   "source": [
    "# Making a trimmed down dataframe from smaller-df, including just the 'prices' and 'order_time_of_day' columns.\n",
    "prices_hours_df = small[['prices', 'order_time_of_day']]"
   ]
  },
  {
   "cell_type": "code",
   "execution_count": 16,
   "id": "d16aad09",
   "metadata": {},
   "outputs": [
    {
     "data": {
      "image/png": "[encoded data removed]",
      "text/plain": [
       "<Figure size 432x288 with 1 Axes>"
      ]
     },
     "metadata": {
      "needs_background": "light"
     },
     "output_type": "display_data"
    }
   ],
   "source": [
    "linechart = sns.lineplot(data = prices_hours_df, x = 'order_time_of_day', y = 'prices')"
   ]
  },
  {
   "cell_type": "markdown",
   "id": "87c7000c",
   "metadata": {},
   "source": [
    "Interestingly, the prices of items bought between the hours of 12am to 6am have a tendency to be higher than the rest of the day, which for the most part stays even and consistent. "
   ]
  },
  {
   "cell_type": "markdown",
   "id": "ce40836e",
   "metadata": {},
   "source": [
    "Visualizing the connection, if any, between age and family status as a line chart: "
   ]
  },
  {
   "cell_type": "code",
   "execution_count": 17,
   "id": "c3b29f53",
   "metadata": {},
   "outputs": [],
   "source": [
    "# Making a trimmed down dataframe from smaller-df, including just the 'age' and 'n_dependants' columns.\n",
    "age_depen_df = small[['age', 'n_dependants']]"
   ]
  },
  {
   "cell_type": "code",
   "execution_count": 18,
   "id": "e1cb464d",
   "metadata": {},
   "outputs": [
    {
     "data": {
      "image/png": "[encoded data removed]",
      "text/plain": [
       "<Figure size 432x288 with 1 Axes>"
      ]
     },
     "metadata": {
      "needs_background": "light"
     },
     "output_type": "display_data"
    }
   ],
   "source": [
    "linechart_2 = sns.lineplot(data = age_depen_df, x = 'age', y = 'n_dependants')"
   ]
  },
  {
   "cell_type": "markdown",
   "id": "333e4cca",
   "metadata": {},
   "source": [
    "This line chart shows that there isn't a clear pattern or relationship between age and number of dependants. There are some peaks to take notice: the number of dependants is highest aroudn age 19 and again at age 60."
   ]
  },
  {
   "cell_type": "markdown",
   "id": "6cdbc28c",
   "metadata": {},
   "source": [
    "Visualizing the connection, if any, between age and mean_price_of_product as a scatterplot: "
   ]
  },
  {
   "cell_type": "code",
   "execution_count": 24,
   "id": "37194553",
   "metadata": {},
   "outputs": [
    {
     "data": {
      "image/png": "[encoded data removed]",
      "text/plain": [
       "<Figure size 432x288 with 1 Axes>"
      ]
     },
     "metadata": {
      "needs_background": "light"
     },
     "output_type": "display_data"
    }
   ],
   "source": [
    "age_meanprice_plot = sns.scatterplot(x = 'age', y = 'mean_price_of_product', data = ords_prods_customers)"
   ]
  },
  {
   "cell_type": "markdown",
   "id": "011ee7fd",
   "metadata": {},
   "source": [
    "The scatterplot shows no clear indication that certain age range has stronger or weaker spending power. If anything, customers seem to purchase lower priced items from mid-40's on. If this is in fact true, perhaps people become more conservative spenders after their mid-40s. "
   ]
  },
  {
   "cell_type": "markdown",
   "id": "74263d0e",
   "metadata": {},
   "source": [
    "Exporting the visualizations:"
   ]
  },
  {
   "cell_type": "code",
   "execution_count": 25,
   "id": "058a2aa6",
   "metadata": {},
   "outputs": [],
   "source": [
    "ords_hour_hist.figure.savefig(os.path.join(path, '04_Analysis','Visualizations', 'ords_hour_hist.png'))"
   ]
  },
  {
   "cell_type": "code",
   "execution_count": 26,
   "id": "407f38c0",
   "metadata": {},
   "outputs": [],
   "source": [
    "loyalty_hist.figure.savefig(os.path.join(path, '04_Analysis','Visualizations', 'loyalty_hist.png'))"
   ]
  },
  {
   "cell_type": "code",
   "execution_count": 27,
   "id": "02457962",
   "metadata": {},
   "outputs": [],
   "source": [
    "linechart.figure.savefig(os.path.join(path, '04_Analysis','Visualizations', 'time_price_line.png'))"
   ]
  },
  {
   "cell_type": "code",
   "execution_count": 28,
   "id": "aec0c6d4",
   "metadata": {},
   "outputs": [],
   "source": [
    "age_price_plot.figure.savefig(os.path.join(path, '04_Analysis','Visualizations', 'age_price_plot.png'))"
   ]
  },
  {
   "cell_type": "code",
   "execution_count": 29,
   "id": "18a7c2dc",
   "metadata": {},
   "outputs": [],
   "source": [
    "age_meanprice_plot.figure.savefig(os.path.join(path, '04_Analysis','Visualizations', 'age_meanprice_plot.png'))"
   ]
  }
 ],
 "metadata": {
  "kernelspec": {
   "display_name": "Python 3 (ipykernel)",
   "language": "python",
   "name": "python3"
  },
  "language_info": {
   "codemirror_mode": {
    "name": "ipython",
    "version": 3
   },
   "file_extension": ".py",
   "mimetype": "text/x-python",
   "name": "python",
   "nbconvert_exporter": "python",
   "pygments_lexer": "ipython3",
   "version": "3.9.7"
  }
 },
 "nbformat": 4,
 "nbformat_minor": 5
}
